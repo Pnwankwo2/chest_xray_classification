{
 "cells": [
  {
   "cell_type": "code",
   "execution_count": 2,
   "id": "0ada9d15-c589-476c-83ed-1784db5f020d",
   "metadata": {},
   "outputs": [],
   "source": [
    "#Import libraries\n",
    "import matplotlib.pyplot as plt\n",
    "from sklearn.model_selection import train_test_split\n",
    "from sklearn.preprocessing import StandardScaler\n",
    "import pandas as pd\n",
    "import numpy as np\n",
    "from statsmodels.stats.outliers_influence import variance_inflation_factor as vif\n",
    "from sklearn.metrics import mean_absolute_error\n",
    "import seaborn as sns\n",
    "import statsmodels.api as sm\n",
    "from scipy import stats\n",
    "\n",
    "import tensorflow as tf\n",
    "from tensorflow.keras.models import Model\n",
    "from tensorflow.keras import layers\n",
    "from tensorflow.keras import Sequential\n",
    "import keras_tuner as kt\n",
    "from tensorflow.keras import regularizers\n",
    "from tensorflow.keras.optimizers import Adam, SGD, RMSprop\n",
    "from tensorflow.keras.callbacks import EarlyStopping"
   ]
  },
  {
   "cell_type": "code",
   "execution_count": 3,
   "id": "25870186-e64f-4b8f-97c3-a84cfdfa7456",
   "metadata": {},
   "outputs": [
    {
     "data": {
      "text/html": [
       "<div>\n",
       "<style scoped>\n",
       "    .dataframe tbody tr th:only-of-type {\n",
       "        vertical-align: middle;\n",
       "    }\n",
       "\n",
       "    .dataframe tbody tr th {\n",
       "        vertical-align: top;\n",
       "    }\n",
       "\n",
       "    .dataframe thead th {\n",
       "        text-align: right;\n",
       "    }\n",
       "</style>\n",
       "<table border=\"1\" class=\"dataframe\">\n",
       "  <thead>\n",
       "    <tr style=\"text-align: right;\">\n",
       "      <th></th>\n",
       "      <th>newid</th>\n",
       "      <th>lact_num</th>\n",
       "      <th>calv_date</th>\n",
       "      <th>alp_date</th>\n",
       "      <th>avg_milk</th>\n",
       "      <th>avg_thi3</th>\n",
       "      <th>avg_csi3</th>\n",
       "      <th>avg_thi30</th>\n",
       "      <th>avg_csi30</th>\n",
       "      <th>avg_precspring</th>\n",
       "    </tr>\n",
       "  </thead>\n",
       "  <tbody>\n",
       "    <tr>\n",
       "      <th>0</th>\n",
       "      <td>224364</td>\n",
       "      <td>5</td>\n",
       "      <td>2010-02-19</td>\n",
       "      <td>2010-06-05</td>\n",
       "      <td>26.20</td>\n",
       "      <td>60.17</td>\n",
       "      <td>966.13</td>\n",
       "      <td>54.81</td>\n",
       "      <td>1038.28</td>\n",
       "      <td>134.61</td>\n",
       "    </tr>\n",
       "    <tr>\n",
       "      <th>1</th>\n",
       "      <td>83453</td>\n",
       "      <td>5</td>\n",
       "      <td>2001-11-09</td>\n",
       "      <td>2002-06-15</td>\n",
       "      <td>12.20</td>\n",
       "      <td>66.08</td>\n",
       "      <td>917.76</td>\n",
       "      <td>54.56</td>\n",
       "      <td>1111.54</td>\n",
       "      <td>184.40</td>\n",
       "    </tr>\n",
       "    <tr>\n",
       "      <th>2</th>\n",
       "      <td>261565</td>\n",
       "      <td>3</td>\n",
       "      <td>2000-09-16</td>\n",
       "      <td>2001-06-24</td>\n",
       "      <td>14.60</td>\n",
       "      <td>66.78</td>\n",
       "      <td>899.06</td>\n",
       "      <td>61.77</td>\n",
       "      <td>1000.32</td>\n",
       "      <td>184.08</td>\n",
       "    </tr>\n",
       "    <tr>\n",
       "      <th>3</th>\n",
       "      <td>122783</td>\n",
       "      <td>5</td>\n",
       "      <td>2008-10-18</td>\n",
       "      <td>2009-06-29</td>\n",
       "      <td>15.17</td>\n",
       "      <td>63.49</td>\n",
       "      <td>1053.80</td>\n",
       "      <td>62.35</td>\n",
       "      <td>1037.26</td>\n",
       "      <td>116.96</td>\n",
       "    </tr>\n",
       "    <tr>\n",
       "      <th>4</th>\n",
       "      <td>252570</td>\n",
       "      <td>1</td>\n",
       "      <td>2007-09-14</td>\n",
       "      <td>2008-06-02</td>\n",
       "      <td>12.03</td>\n",
       "      <td>65.96</td>\n",
       "      <td>969.90</td>\n",
       "      <td>61.04</td>\n",
       "      <td>998.60</td>\n",
       "      <td>154.72</td>\n",
       "    </tr>\n",
       "  </tbody>\n",
       "</table>\n",
       "</div>"
      ],
      "text/plain": [
       "    newid  lact_num   calv_date    alp_date  avg_milk  avg_thi3  avg_csi3  \\\n",
       "0  224364         5  2010-02-19  2010-06-05     26.20     60.17    966.13   \n",
       "1   83453         5  2001-11-09  2002-06-15     12.20     66.08    917.76   \n",
       "2  261565         3  2000-09-16  2001-06-24     14.60     66.78    899.06   \n",
       "3  122783         5  2008-10-18  2009-06-29     15.17     63.49   1053.80   \n",
       "4  252570         1  2007-09-14  2008-06-02     12.03     65.96    969.90   \n",
       "\n",
       "   avg_thi30  avg_csi30  avg_precspring  \n",
       "0      54.81    1038.28          134.61  \n",
       "1      54.56    1111.54          184.40  \n",
       "2      61.77    1000.32          184.08  \n",
       "3      62.35    1037.26          116.96  \n",
       "4      61.04     998.60          154.72  "
      ]
     },
     "metadata": {},
     "output_type": "display_data"
    }
   ],
   "source": [
    "#load in our dataset\n",
    "df = pd.read_csv(\"Resources/mountain_pastured_cows.csv\")\n",
    "display(df.head())"
   ]
  },
  {
   "cell_type": "markdown",
   "id": "901df454-219e-4ae5-9801-3529304ba124",
   "metadata": {},
   "source": [
    "### Data Exploration and Cleaning"
   ]
  },
  {
   "cell_type": "code",
   "execution_count": 4,
   "id": "9b58741e-c071-4dc3-9743-c04a044459a4",
   "metadata": {},
   "outputs": [
    {
     "data": {
      "text/plain": [
       "newid               int64\n",
       "lact_num            int64\n",
       "calv_date          object\n",
       "alp_date           object\n",
       "avg_milk          float64\n",
       "avg_thi3          float64\n",
       "avg_csi3          float64\n",
       "avg_thi30         float64\n",
       "avg_csi30         float64\n",
       "avg_precspring    float64\n",
       "dtype: object"
      ]
     },
     "execution_count": 4,
     "metadata": {},
     "output_type": "execute_result"
    }
   ],
   "source": [
    "#check dtypes\n",
    "df.dtypes"
   ]
  },
  {
   "cell_type": "code",
   "execution_count": 5,
   "id": "f8c517d1-6dab-4710-a587-b608d805decc",
   "metadata": {},
   "outputs": [
    {
     "name": "stdout",
     "output_type": "stream",
     "text": [
      "newid             0.00000\n",
      "lact_num          0.00000\n",
      "calv_date         0.00000\n",
      "alp_date          0.00000\n",
      "avg_milk          0.00000\n",
      "avg_thi3          0.00205\n",
      "avg_csi3          0.00205\n",
      "avg_thi30         0.00205\n",
      "avg_csi30         0.00205\n",
      "avg_precspring    0.00000\n",
      "dtype: float64\n",
      "(20000, 10)\n"
     ]
    }
   ],
   "source": [
    "#check for nulls, negligible amount, should be clear to dropna\n",
    "print(df.isna().sum()/len(df))\n",
    "print(df.shape)"
   ]
  },
  {
   "cell_type": "code",
   "execution_count": 6,
   "id": "be2a0405-ed18-490e-8ea5-cf5290caf381",
   "metadata": {},
   "outputs": [
    {
     "name": "stdout",
     "output_type": "stream",
     "text": [
      "(19959, 10)\n"
     ]
    }
   ],
   "source": [
    "df = df.dropna()\n",
    "print(df.shape)"
   ]
  },
  {
   "cell_type": "code",
   "execution_count": 7,
   "id": "3704137f-2c1d-4bdb-a0ab-425e8db876c0",
   "metadata": {
    "scrolled": true
   },
   "outputs": [
    {
     "data": {
      "text/plain": [
       "count    19959.000000\n",
       "mean        15.921083\n",
       "std          4.078102\n",
       "min          3.500000\n",
       "25%         13.070000\n",
       "50%         15.600000\n",
       "75%         18.500000\n",
       "max         40.370000\n",
       "Name: avg_milk, dtype: float64"
      ]
     },
     "execution_count": 7,
     "metadata": {},
     "output_type": "execute_result"
    }
   ],
   "source": [
    "df[\"avg_milk\"].describe()"
   ]
  },
  {
   "cell_type": "code",
   "execution_count": 8,
   "id": "1a0ff5d6-821d-40c1-bb89-07da0d538f28",
   "metadata": {},
   "outputs": [
    {
     "name": "stdout",
     "output_type": "stream",
     "text": [
      "Mode of avg_milk: 14.6\n"
     ]
    }
   ],
   "source": [
    "# The most frequently produced milk production value (mode)\n",
    "mode_milk = stats.mode(df['avg_milk'])[0]  \n",
    "\n",
    "# Print the mode\n",
    "print(f\"Mode of avg_milk: {mode_milk}\") "
   ]
  },
  {
   "cell_type": "code",
   "execution_count": 9,
   "id": "2e0c9902-ac4d-4dab-9184-0fe71fc2a930",
   "metadata": {},
   "outputs": [
    {
     "name": "stdout",
     "output_type": "stream",
     "text": [
      "Number of cows with minimum milk production (3.5 kg): 1\n",
      "Number of cows with maximum milk production (40.37 kg): 2\n",
      "Number of cows that produced less than the 25th percentile (13.07 kg): 4979\n",
      "Number of cows that produced less than the median (15.60 kg): 9911\n",
      "Number of cows that produced less than the 75th percentile (18.50 kg): 14965\n"
     ]
    }
   ],
   "source": [
    "# For the Target column (\"Y\"), avg_milk production, calculate the number of cows for the min and max, \n",
    "# and calculate the cumulative number of cows at quartiles 25%, 50% and 75% (moooooooooooooooo!!!!)\n",
    "min_milk_count = (df['avg_milk'] == df['avg_milk'].min()).sum()\n",
    "max_milk_count = (df['avg_milk'] == df['avg_milk'].max()).sum()\n",
    "p25_count = (df['avg_milk'] < df['avg_milk'].quantile(0.25)).sum()\n",
    "p50_count = (df['avg_milk'] < df['avg_milk'].quantile(0.50)).sum()\n",
    "p75_count = (df['avg_milk'] < df['avg_milk'].quantile(0.75)).sum()\n",
    "\n",
    "# print the cumlative number of cows below the certain thresholds)\n",
    "print(f\"Number of cows with minimum milk production (3.5 kg): {min_milk_count}\")\n",
    "print(f\"Number of cows with maximum milk production (40.37 kg): {max_milk_count}\")\n",
    "print(f\"Number of cows that produced less than the 25th percentile (13.07 kg): {p25_count}\") \n",
    "print(f\"Number of cows that produced less than the median (15.60 kg): {p50_count}\")\n",
    "print(f\"Number of cows that produced less than the 75th percentile (18.50 kg): {p75_count}\")\n"
   ]
  },
  {
   "cell_type": "code",
   "execution_count": 10,
   "id": "b13d3e13-9c2f-4eb3-80c0-055b998a6da5",
   "metadata": {},
   "outputs": [
    {
     "data": {
      "text/html": [
       "<div>\n",
       "<style scoped>\n",
       "    .dataframe tbody tr th:only-of-type {\n",
       "        vertical-align: middle;\n",
       "    }\n",
       "\n",
       "    .dataframe tbody tr th {\n",
       "        vertical-align: top;\n",
       "    }\n",
       "\n",
       "    .dataframe thead th {\n",
       "        text-align: right;\n",
       "    }\n",
       "</style>\n",
       "<table border=\"1\" class=\"dataframe\">\n",
       "  <thead>\n",
       "    <tr style=\"text-align: right;\">\n",
       "      <th></th>\n",
       "      <th>newid</th>\n",
       "      <th>lact_num</th>\n",
       "      <th>calv_date</th>\n",
       "      <th>alp_date</th>\n",
       "      <th>avg_milk</th>\n",
       "      <th>avg_thi3</th>\n",
       "      <th>avg_csi3</th>\n",
       "      <th>avg_thi30</th>\n",
       "      <th>avg_csi30</th>\n",
       "      <th>avg_precspring</th>\n",
       "    </tr>\n",
       "  </thead>\n",
       "  <tbody>\n",
       "    <tr>\n",
       "      <th>3844</th>\n",
       "      <td>37340</td>\n",
       "      <td>2</td>\n",
       "      <td>2001-09-29</td>\n",
       "      <td>2002-07-03</td>\n",
       "      <td>3.5</td>\n",
       "      <td>59.18</td>\n",
       "      <td>1091.85</td>\n",
       "      <td>60.98</td>\n",
       "      <td>1040.56</td>\n",
       "      <td>186.71</td>\n",
       "    </tr>\n",
       "  </tbody>\n",
       "</table>\n",
       "</div>"
      ],
      "text/plain": [
       "      newid  lact_num   calv_date    alp_date  avg_milk  avg_thi3  avg_csi3  \\\n",
       "3844  37340         2  2001-09-29  2002-07-03       3.5     59.18   1091.85   \n",
       "\n",
       "      avg_thi30  avg_csi30  avg_precspring  \n",
       "3844      60.98    1040.56          186.71  "
      ]
     },
     "execution_count": 10,
     "metadata": {},
     "output_type": "execute_result"
    }
   ],
   "source": [
    "# Extact from the dataset and examine the data of the cow with exceptionally low milk yield to gather some insight behind these values.\n",
    "\n",
    "# Find the cow(s) that produced 3.5 kg of milk\n",
    "cows_with_min_milk = df[df['avg_milk'] == 3.5] \n",
    "cows_with_min_milk\n"
   ]
  },
  {
   "cell_type": "code",
   "execution_count": 11,
   "id": "d2663c83-9f9d-4aaa-b9d7-30432a306a07",
   "metadata": {},
   "outputs": [
    {
     "data": {
      "text/html": [
       "<div>\n",
       "<style scoped>\n",
       "    .dataframe tbody tr th:only-of-type {\n",
       "        vertical-align: middle;\n",
       "    }\n",
       "\n",
       "    .dataframe tbody tr th {\n",
       "        vertical-align: top;\n",
       "    }\n",
       "\n",
       "    .dataframe thead th {\n",
       "        text-align: right;\n",
       "    }\n",
       "</style>\n",
       "<table border=\"1\" class=\"dataframe\">\n",
       "  <thead>\n",
       "    <tr style=\"text-align: right;\">\n",
       "      <th></th>\n",
       "      <th>newid</th>\n",
       "      <th>lact_num</th>\n",
       "      <th>calv_date</th>\n",
       "      <th>alp_date</th>\n",
       "      <th>avg_milk</th>\n",
       "      <th>avg_thi3</th>\n",
       "      <th>avg_csi3</th>\n",
       "      <th>avg_thi30</th>\n",
       "      <th>avg_csi30</th>\n",
       "      <th>avg_precspring</th>\n",
       "    </tr>\n",
       "  </thead>\n",
       "  <tbody>\n",
       "    <tr>\n",
       "      <th>3923</th>\n",
       "      <td>176146</td>\n",
       "      <td>8</td>\n",
       "      <td>2013-09-28</td>\n",
       "      <td>2013-10-09</td>\n",
       "      <td>40.37</td>\n",
       "      <td>44.27</td>\n",
       "      <td>1088.68</td>\n",
       "      <td>46.34</td>\n",
       "      <td>1140.58</td>\n",
       "      <td>182.28</td>\n",
       "    </tr>\n",
       "    <tr>\n",
       "      <th>6922</th>\n",
       "      <td>376495</td>\n",
       "      <td>8</td>\n",
       "      <td>2013-09-28</td>\n",
       "      <td>2013-10-09</td>\n",
       "      <td>40.37</td>\n",
       "      <td>44.27</td>\n",
       "      <td>1088.68</td>\n",
       "      <td>46.34</td>\n",
       "      <td>1140.58</td>\n",
       "      <td>182.28</td>\n",
       "    </tr>\n",
       "  </tbody>\n",
       "</table>\n",
       "</div>"
      ],
      "text/plain": [
       "       newid  lact_num   calv_date    alp_date  avg_milk  avg_thi3  avg_csi3  \\\n",
       "3923  176146         8  2013-09-28  2013-10-09     40.37     44.27   1088.68   \n",
       "6922  376495         8  2013-09-28  2013-10-09     40.37     44.27   1088.68   \n",
       "\n",
       "      avg_thi30  avg_csi30  avg_precspring  \n",
       "3923      46.34    1140.58          182.28  \n",
       "6922      46.34    1140.58          182.28  "
      ]
     },
     "execution_count": 11,
     "metadata": {},
     "output_type": "execute_result"
    }
   ],
   "source": [
    "# Extact from the dataset and examine the data of the cow with exceptionally high milk yield to gather some insight behind these values.\n",
    "\n",
    "# Find the cow(s) that produced 40.37 kg of milk:\n",
    "cows_with_max_milk = df[df['avg_milk'] == 40.37] \n",
    "cows_with_max_milk"
   ]
  },
  {
   "cell_type": "code",
   "execution_count": 12,
   "id": "ea6dc1f4-f010-48e4-8f07-093d6b5e5c95",
   "metadata": {},
   "outputs": [
    {
     "name": "stdout",
     "output_type": "stream",
     "text": [
      "Number of cows within 1 standard deviation: 13753\n",
      "Number of cows within 2 standard deviations: 19067\n",
      "Number of cows within 3 standard deviations: 19865\n"
     ]
    },
    {
     "data": {
      "image/png": "[encoded data removed]",
      "text/plain": [
       "<Figure size 1200x600 with 1 Axes>"
      ]
     },
     "metadata": {},
     "output_type": "display_data"
    }
   ],
   "source": [
    "# For the defined target Column (\"Y\"), avg_milk production, \n",
    "# calculate and observe the number of cows within 1 standard deviation, 2 and 3 standard deviations and graph the results \n",
    "\n",
    "# Extract relevant statistics\n",
    "mean = 15.921083\n",
    "std_dev = 4.078102\n",
    "total_cows = 19959\n",
    "\n",
    "# Calculate standard deviation boundaries\n",
    "lower_bound_1std = mean - std_dev\n",
    "upper_bound_1std = mean + std_dev\n",
    "lower_bound_2std = mean - 2 * std_dev\n",
    "upper_bound_2std = mean + 2 * std_dev\n",
    "lower_bound_3std = mean - 3 * std_dev\n",
    "upper_bound_3std = mean + 3 * std_dev\n",
    "\n",
    "# Count cows within standard deviation ranges \n",
    "num_cows_within_1std = ((df['avg_milk'] >= lower_bound_1std) & (df['avg_milk'] <= upper_bound_1std)).sum()\n",
    "num_cows_within_2std = ((df['avg_milk'] >= lower_bound_2std) & (df['avg_milk'] <= upper_bound_2std)).sum()\n",
    "num_cows_within_3std = ((df['avg_milk'] >= lower_bound_3std) & (df['avg_milk'] <= upper_bound_3std)).sum()\n",
    "\n",
    "# Print the number of cows within each standard deviation range\n",
    "print(f\"Number of cows within 1 standard deviation: {num_cows_within_1std}\")\n",
    "print(f\"Number of cows within 2 standard deviations: {num_cows_within_2std}\")\n",
    "print(f\"Number of cows within 3 standard deviations: {num_cows_within_3std}\")\n",
    "\n",
    "# Create the histogram\n",
    "plt.figure(figsize=(12, 6))\n",
    "\n",
    "plt.hist(df['avg_milk'], bins=30, color='skyblue', alpha=0.7)\n",
    "\n",
    "# Plot vertical lines for standard deviations\n",
    "plt.axvline(lower_bound_1std, color='red', linestyle='--', label='-1 Std Dev')\n",
    "plt.axvline(upper_bound_1std, color='red', linestyle='--', label='+1 Std Dev')\n",
    "plt.axvline(lower_bound_2std, color='green', linestyle='--', label='-2 Std Dev')\n",
    "plt.axvline(upper_bound_2std, color='green', linestyle='--', label='+2 Std Dev')\n",
    "plt.axvline(lower_bound_3std, color='purple', linestyle='--', label='-3 Std Dev')\n",
    "plt.axvline(upper_bound_3std, color='purple', linestyle='--', label='+3 Std Dev')\n",
    "\n",
    "# Add labels and title\n",
    "plt.xlabel('Average Milk Production (kg)')\n",
    "plt.ylabel('Number of Cows (Moooo!)')\n",
    "plt.title('Distribution of Average Milk Production')\n",
    "plt.legend()\n",
    "\n",
    "# Add gridlines\n",
    "plt.grid(True)\n",
    "\n",
    "# Add total number of cows as text\n",
    "plt.text(20, 2000, f\"Total Cows: {total_cows}\", fontsize=12)\n",
    "\n",
    "plt.show()"
   ]
  },
  {
   "cell_type": "code",
   "execution_count": null,
   "id": "f0e46617-2097-4d3e-9e7c-255bdee69701",
   "metadata": {},
   "outputs": [],
   "source": []
  },
  {
   "cell_type": "markdown",
   "id": "85f01b3c-8f39-4662-a7b9-98c6277d70f0",
   "metadata": {},
   "source": [
    "### Feature Engineering"
   ]
  },
  {
   "cell_type": "code",
   "execution_count": 13,
   "id": "33619839-ed79-42fb-bcf0-d929a8ed3d8a",
   "metadata": {},
   "outputs": [
    {
     "data": {
      "text/html": [
       "<div>\n",
       "<style scoped>\n",
       "    .dataframe tbody tr th:only-of-type {\n",
       "        vertical-align: middle;\n",
       "    }\n",
       "\n",
       "    .dataframe tbody tr th {\n",
       "        vertical-align: top;\n",
       "    }\n",
       "\n",
       "    .dataframe thead th {\n",
       "        text-align: right;\n",
       "    }\n",
       "</style>\n",
       "<table border=\"1\" class=\"dataframe\">\n",
       "  <thead>\n",
       "    <tr style=\"text-align: right;\">\n",
       "      <th></th>\n",
       "      <th>newid</th>\n",
       "      <th>lact_num</th>\n",
       "      <th>calv_date</th>\n",
       "      <th>alp_date</th>\n",
       "      <th>avg_milk</th>\n",
       "      <th>avg_thi3</th>\n",
       "      <th>avg_csi3</th>\n",
       "      <th>avg_thi30</th>\n",
       "      <th>avg_csi30</th>\n",
       "      <th>avg_precspring</th>\n",
       "    </tr>\n",
       "  </thead>\n",
       "  <tbody>\n",
       "    <tr>\n",
       "      <th>0</th>\n",
       "      <td>224364</td>\n",
       "      <td>5</td>\n",
       "      <td>2010-02-19</td>\n",
       "      <td>2010-06-05</td>\n",
       "      <td>26.20</td>\n",
       "      <td>60.17</td>\n",
       "      <td>966.13</td>\n",
       "      <td>54.81</td>\n",
       "      <td>1038.28</td>\n",
       "      <td>134.61</td>\n",
       "    </tr>\n",
       "    <tr>\n",
       "      <th>1</th>\n",
       "      <td>83453</td>\n",
       "      <td>5</td>\n",
       "      <td>2001-11-09</td>\n",
       "      <td>2002-06-15</td>\n",
       "      <td>12.20</td>\n",
       "      <td>66.08</td>\n",
       "      <td>917.76</td>\n",
       "      <td>54.56</td>\n",
       "      <td>1111.54</td>\n",
       "      <td>184.40</td>\n",
       "    </tr>\n",
       "    <tr>\n",
       "      <th>2</th>\n",
       "      <td>261565</td>\n",
       "      <td>3</td>\n",
       "      <td>2000-09-16</td>\n",
       "      <td>2001-06-24</td>\n",
       "      <td>14.60</td>\n",
       "      <td>66.78</td>\n",
       "      <td>899.06</td>\n",
       "      <td>61.77</td>\n",
       "      <td>1000.32</td>\n",
       "      <td>184.08</td>\n",
       "    </tr>\n",
       "    <tr>\n",
       "      <th>3</th>\n",
       "      <td>122783</td>\n",
       "      <td>5</td>\n",
       "      <td>2008-10-18</td>\n",
       "      <td>2009-06-29</td>\n",
       "      <td>15.17</td>\n",
       "      <td>63.49</td>\n",
       "      <td>1053.80</td>\n",
       "      <td>62.35</td>\n",
       "      <td>1037.26</td>\n",
       "      <td>116.96</td>\n",
       "    </tr>\n",
       "    <tr>\n",
       "      <th>4</th>\n",
       "      <td>252570</td>\n",
       "      <td>1</td>\n",
       "      <td>2007-09-14</td>\n",
       "      <td>2008-06-02</td>\n",
       "      <td>12.03</td>\n",
       "      <td>65.96</td>\n",
       "      <td>969.90</td>\n",
       "      <td>61.04</td>\n",
       "      <td>998.60</td>\n",
       "      <td>154.72</td>\n",
       "    </tr>\n",
       "  </tbody>\n",
       "</table>\n",
       "</div>"
      ],
      "text/plain": [
       "    newid  lact_num  calv_date   alp_date  avg_milk  avg_thi3  avg_csi3  \\\n",
       "0  224364         5 2010-02-19 2010-06-05     26.20     60.17    966.13   \n",
       "1   83453         5 2001-11-09 2002-06-15     12.20     66.08    917.76   \n",
       "2  261565         3 2000-09-16 2001-06-24     14.60     66.78    899.06   \n",
       "3  122783         5 2008-10-18 2009-06-29     15.17     63.49   1053.80   \n",
       "4  252570         1 2007-09-14 2008-06-02     12.03     65.96    969.90   \n",
       "\n",
       "   avg_thi30  avg_csi30  avg_precspring  \n",
       "0      54.81    1038.28          134.61  \n",
       "1      54.56    1111.54          184.40  \n",
       "2      61.77    1000.32          184.08  \n",
       "3      62.35    1037.26          116.96  \n",
       "4      61.04     998.60          154.72  "
      ]
     },
     "metadata": {},
     "output_type": "display_data"
    },
    {
     "name": "stdout",
     "output_type": "stream",
     "text": [
      "newid                      int64\n",
      "lact_num                   int64\n",
      "calv_date         datetime64[ns]\n",
      "alp_date          datetime64[ns]\n",
      "avg_milk                 float64\n",
      "avg_thi3                 float64\n",
      "avg_csi3                 float64\n",
      "avg_thi30                float64\n",
      "avg_csi30                float64\n",
      "avg_precspring           float64\n",
      "dtype: object\n"
     ]
    }
   ],
   "source": [
    "# Example: converting 'calv_date' and 'alp_date' columns to datetime\n",
    "df['calv_date'] = pd.to_datetime(df['calv_date'])\n",
    "df['alp_date'] = pd.to_datetime(df['alp_date'])\n",
    "\n",
    "display(df.head())\n",
    "print(df.dtypes)\n"
   ]
  },
  {
   "cell_type": "code",
   "execution_count": 14,
   "id": "df011375-f332-43d9-8353-c47c29875200",
   "metadata": {},
   "outputs": [
    {
     "data": {
      "text/html": [
       "<div>\n",
       "<style scoped>\n",
       "    .dataframe tbody tr th:only-of-type {\n",
       "        vertical-align: middle;\n",
       "    }\n",
       "\n",
       "    .dataframe tbody tr th {\n",
       "        vertical-align: top;\n",
       "    }\n",
       "\n",
       "    .dataframe thead th {\n",
       "        text-align: right;\n",
       "    }\n",
       "</style>\n",
       "<table border=\"1\" class=\"dataframe\">\n",
       "  <thead>\n",
       "    <tr style=\"text-align: right;\">\n",
       "      <th></th>\n",
       "      <th>newid</th>\n",
       "      <th>lact_num</th>\n",
       "      <th>calv_date</th>\n",
       "      <th>alp_date</th>\n",
       "      <th>avg_milk</th>\n",
       "      <th>avg_thi3</th>\n",
       "      <th>avg_csi3</th>\n",
       "      <th>avg_thi30</th>\n",
       "      <th>avg_csi30</th>\n",
       "      <th>avg_precspring</th>\n",
       "      <th>date_diff</th>\n",
       "    </tr>\n",
       "  </thead>\n",
       "  <tbody>\n",
       "    <tr>\n",
       "      <th>0</th>\n",
       "      <td>224364</td>\n",
       "      <td>5</td>\n",
       "      <td>2010-02-19</td>\n",
       "      <td>2010-06-05</td>\n",
       "      <td>26.20</td>\n",
       "      <td>60.17</td>\n",
       "      <td>966.13</td>\n",
       "      <td>54.81</td>\n",
       "      <td>1038.28</td>\n",
       "      <td>134.61</td>\n",
       "      <td>106</td>\n",
       "    </tr>\n",
       "    <tr>\n",
       "      <th>1</th>\n",
       "      <td>83453</td>\n",
       "      <td>5</td>\n",
       "      <td>2001-11-09</td>\n",
       "      <td>2002-06-15</td>\n",
       "      <td>12.20</td>\n",
       "      <td>66.08</td>\n",
       "      <td>917.76</td>\n",
       "      <td>54.56</td>\n",
       "      <td>1111.54</td>\n",
       "      <td>184.40</td>\n",
       "      <td>218</td>\n",
       "    </tr>\n",
       "    <tr>\n",
       "      <th>2</th>\n",
       "      <td>261565</td>\n",
       "      <td>3</td>\n",
       "      <td>2000-09-16</td>\n",
       "      <td>2001-06-24</td>\n",
       "      <td>14.60</td>\n",
       "      <td>66.78</td>\n",
       "      <td>899.06</td>\n",
       "      <td>61.77</td>\n",
       "      <td>1000.32</td>\n",
       "      <td>184.08</td>\n",
       "      <td>281</td>\n",
       "    </tr>\n",
       "    <tr>\n",
       "      <th>3</th>\n",
       "      <td>122783</td>\n",
       "      <td>5</td>\n",
       "      <td>2008-10-18</td>\n",
       "      <td>2009-06-29</td>\n",
       "      <td>15.17</td>\n",
       "      <td>63.49</td>\n",
       "      <td>1053.80</td>\n",
       "      <td>62.35</td>\n",
       "      <td>1037.26</td>\n",
       "      <td>116.96</td>\n",
       "      <td>254</td>\n",
       "    </tr>\n",
       "    <tr>\n",
       "      <th>4</th>\n",
       "      <td>252570</td>\n",
       "      <td>1</td>\n",
       "      <td>2007-09-14</td>\n",
       "      <td>2008-06-02</td>\n",
       "      <td>12.03</td>\n",
       "      <td>65.96</td>\n",
       "      <td>969.90</td>\n",
       "      <td>61.04</td>\n",
       "      <td>998.60</td>\n",
       "      <td>154.72</td>\n",
       "      <td>262</td>\n",
       "    </tr>\n",
       "  </tbody>\n",
       "</table>\n",
       "</div>"
      ],
      "text/plain": [
       "    newid  lact_num  calv_date   alp_date  avg_milk  avg_thi3  avg_csi3  \\\n",
       "0  224364         5 2010-02-19 2010-06-05     26.20     60.17    966.13   \n",
       "1   83453         5 2001-11-09 2002-06-15     12.20     66.08    917.76   \n",
       "2  261565         3 2000-09-16 2001-06-24     14.60     66.78    899.06   \n",
       "3  122783         5 2008-10-18 2009-06-29     15.17     63.49   1053.80   \n",
       "4  252570         1 2007-09-14 2008-06-02     12.03     65.96    969.90   \n",
       "\n",
       "   avg_thi30  avg_csi30  avg_precspring  date_diff  \n",
       "0      54.81    1038.28          134.61        106  \n",
       "1      54.56    1111.54          184.40        218  \n",
       "2      61.77    1000.32          184.08        281  \n",
       "3      62.35    1037.26          116.96        254  \n",
       "4      61.04     998.60          154.72        262  "
      ]
     },
     "execution_count": 14,
     "metadata": {},
     "output_type": "execute_result"
    }
   ],
   "source": [
    "# Calculate the difference\n",
    "df['date_diff'] = (df['alp_date'] - df['calv_date']).dt.days\n",
    "\n",
    "df.head()"
   ]
  },
  {
   "cell_type": "code",
   "execution_count": 15,
   "id": "a3290b93-1875-4c9b-ad22-64965c3bb105",
   "metadata": {},
   "outputs": [
    {
     "data": {
      "text/html": [
       "<div>\n",
       "<style scoped>\n",
       "    .dataframe tbody tr th:only-of-type {\n",
       "        vertical-align: middle;\n",
       "    }\n",
       "\n",
       "    .dataframe tbody tr th {\n",
       "        vertical-align: top;\n",
       "    }\n",
       "\n",
       "    .dataframe thead th {\n",
       "        text-align: right;\n",
       "    }\n",
       "</style>\n",
       "<table border=\"1\" class=\"dataframe\">\n",
       "  <thead>\n",
       "    <tr style=\"text-align: right;\">\n",
       "      <th></th>\n",
       "      <th>newid</th>\n",
       "      <th>lact_num</th>\n",
       "      <th>calv_date</th>\n",
       "      <th>alp_date</th>\n",
       "      <th>avg_milk</th>\n",
       "      <th>avg_thi3</th>\n",
       "      <th>avg_csi3</th>\n",
       "      <th>avg_thi30</th>\n",
       "      <th>avg_csi30</th>\n",
       "      <th>avg_precspring</th>\n",
       "      <th>date_diff</th>\n",
       "      <th>calv_month</th>\n",
       "      <th>calv_day_of_month</th>\n",
       "      <th>alp_month</th>\n",
       "      <th>alp_day_of_month</th>\n",
       "    </tr>\n",
       "  </thead>\n",
       "  <tbody>\n",
       "    <tr>\n",
       "      <th>0</th>\n",
       "      <td>224364</td>\n",
       "      <td>5</td>\n",
       "      <td>2010-02-19</td>\n",
       "      <td>2010-06-05</td>\n",
       "      <td>26.20</td>\n",
       "      <td>60.17</td>\n",
       "      <td>966.13</td>\n",
       "      <td>54.81</td>\n",
       "      <td>1038.28</td>\n",
       "      <td>134.61</td>\n",
       "      <td>106</td>\n",
       "      <td>2</td>\n",
       "      <td>19</td>\n",
       "      <td>6</td>\n",
       "      <td>5</td>\n",
       "    </tr>\n",
       "    <tr>\n",
       "      <th>1</th>\n",
       "      <td>83453</td>\n",
       "      <td>5</td>\n",
       "      <td>2001-11-09</td>\n",
       "      <td>2002-06-15</td>\n",
       "      <td>12.20</td>\n",
       "      <td>66.08</td>\n",
       "      <td>917.76</td>\n",
       "      <td>54.56</td>\n",
       "      <td>1111.54</td>\n",
       "      <td>184.40</td>\n",
       "      <td>218</td>\n",
       "      <td>11</td>\n",
       "      <td>9</td>\n",
       "      <td>6</td>\n",
       "      <td>15</td>\n",
       "    </tr>\n",
       "    <tr>\n",
       "      <th>2</th>\n",
       "      <td>261565</td>\n",
       "      <td>3</td>\n",
       "      <td>2000-09-16</td>\n",
       "      <td>2001-06-24</td>\n",
       "      <td>14.60</td>\n",
       "      <td>66.78</td>\n",
       "      <td>899.06</td>\n",
       "      <td>61.77</td>\n",
       "      <td>1000.32</td>\n",
       "      <td>184.08</td>\n",
       "      <td>281</td>\n",
       "      <td>9</td>\n",
       "      <td>16</td>\n",
       "      <td>6</td>\n",
       "      <td>24</td>\n",
       "    </tr>\n",
       "    <tr>\n",
       "      <th>3</th>\n",
       "      <td>122783</td>\n",
       "      <td>5</td>\n",
       "      <td>2008-10-18</td>\n",
       "      <td>2009-06-29</td>\n",
       "      <td>15.17</td>\n",
       "      <td>63.49</td>\n",
       "      <td>1053.80</td>\n",
       "      <td>62.35</td>\n",
       "      <td>1037.26</td>\n",
       "      <td>116.96</td>\n",
       "      <td>254</td>\n",
       "      <td>10</td>\n",
       "      <td>18</td>\n",
       "      <td>6</td>\n",
       "      <td>29</td>\n",
       "    </tr>\n",
       "    <tr>\n",
       "      <th>4</th>\n",
       "      <td>252570</td>\n",
       "      <td>1</td>\n",
       "      <td>2007-09-14</td>\n",
       "      <td>2008-06-02</td>\n",
       "      <td>12.03</td>\n",
       "      <td>65.96</td>\n",
       "      <td>969.90</td>\n",
       "      <td>61.04</td>\n",
       "      <td>998.60</td>\n",
       "      <td>154.72</td>\n",
       "      <td>262</td>\n",
       "      <td>9</td>\n",
       "      <td>14</td>\n",
       "      <td>6</td>\n",
       "      <td>2</td>\n",
       "    </tr>\n",
       "  </tbody>\n",
       "</table>\n",
       "</div>"
      ],
      "text/plain": [
       "    newid  lact_num  calv_date   alp_date  avg_milk  avg_thi3  avg_csi3  \\\n",
       "0  224364         5 2010-02-19 2010-06-05     26.20     60.17    966.13   \n",
       "1   83453         5 2001-11-09 2002-06-15     12.20     66.08    917.76   \n",
       "2  261565         3 2000-09-16 2001-06-24     14.60     66.78    899.06   \n",
       "3  122783         5 2008-10-18 2009-06-29     15.17     63.49   1053.80   \n",
       "4  252570         1 2007-09-14 2008-06-02     12.03     65.96    969.90   \n",
       "\n",
       "   avg_thi30  avg_csi30  avg_precspring  date_diff  calv_month  \\\n",
       "0      54.81    1038.28          134.61        106           2   \n",
       "1      54.56    1111.54          184.40        218          11   \n",
       "2      61.77    1000.32          184.08        281           9   \n",
       "3      62.35    1037.26          116.96        254          10   \n",
       "4      61.04     998.60          154.72        262           9   \n",
       "\n",
       "   calv_day_of_month  alp_month  alp_day_of_month  \n",
       "0                 19          6                 5  \n",
       "1                  9          6                15  \n",
       "2                 16          6                24  \n",
       "3                 18          6                29  \n",
       "4                 14          6                 2  "
      ]
     },
     "execution_count": 15,
     "metadata": {},
     "output_type": "execute_result"
    }
   ],
   "source": [
    "#Replace datetime columns with numerical\n",
    "\n",
    "# df['calv_year'] = df['calv_date'].dt.year | causes multicollinearity issues\n",
    "df['calv_month'] = df['calv_date'].dt.month\n",
    "df['calv_day_of_month'] = df['calv_date'].dt.day\n",
    "\n",
    "# df['alp_year'] = df['alp_date'].dt.year | causes multicollinearity issues\n",
    "df['alp_month'] = df['alp_date'].dt.month\n",
    "df['alp_day_of_month'] = df['alp_date'].dt.day\n",
    "\n",
    "df.head()"
   ]
  },
  {
   "cell_type": "code",
   "execution_count": 16,
   "id": "17146aad-5873-40a6-9702-05779053c308",
   "metadata": {},
   "outputs": [
    {
     "data": {
      "text/plain": [
       "newid                         int64\n",
       "lact_num                      int64\n",
       "calv_date            datetime64[ns]\n",
       "alp_date             datetime64[ns]\n",
       "avg_milk                    float64\n",
       "avg_thi3                    float64\n",
       "avg_csi3                    float64\n",
       "avg_thi30                   float64\n",
       "avg_csi30                   float64\n",
       "avg_precspring              float64\n",
       "date_diff                     int64\n",
       "calv_month                    int32\n",
       "calv_day_of_month             int32\n",
       "alp_month                     int32\n",
       "alp_day_of_month              int32\n",
       "dtype: object"
      ]
     },
     "execution_count": 16,
     "metadata": {},
     "output_type": "execute_result"
    }
   ],
   "source": [
    "df.dtypes"
   ]
  },
  {
   "cell_type": "code",
   "execution_count": 17,
   "id": "ea2066cf-e0e1-4272-97a4-aae670252b7a",
   "metadata": {},
   "outputs": [
    {
     "data": {
      "image/png": "[encoded data removed]",
      "text/plain": [
       "<Figure size 1200x1000 with 6 Axes>"
      ]
     },
     "metadata": {},
     "output_type": "display_data"
    },
    {
     "data": {
      "text/plain": [
       "<Figure size 640x480 with 0 Axes>"
      ]
     },
     "metadata": {},
     "output_type": "display_data"
    }
   ],
   "source": [
    "# Visualize distributions of numeric columns\n",
    "numeric_columns = ['avg_milk', 'avg_thi3', 'avg_csi3', 'avg_thi30', 'avg_csi30', 'avg_precspring']\n",
    "axes = df[numeric_columns].hist(figsize=(12, 10))\n",
    "plt.suptitle(\"Distribution of Features\")\n",
    "# Add Labels for each fig\n",
    "titles = ['Average Milk Over Three Milk Records (kg)', 'Temperature Humidity Index (3 day average)', 'Cold Stress Index (3 day average)',\n",
    "          'Temperature Humidity Index (30 day average)','Cold Stress Index (30 day average)', 'Average Precipitation During Spring (mm/month)']\n",
    "xlabel = \"Value\"\n",
    "ylabel = \"Frequency\"\n",
    "for fig, title in zip(axes.flatten(), titles):\n",
    "    fig.set_title(title)\n",
    "    fig.set_xlabel(xlabel)\n",
    "    fig.set_ylabel(ylabel)\n",
    "# show charts\n",
    "plt.tight_layout()\n",
    "plt.show()\n",
    "plt.savefig('Resources/milk_histogram.svg')"
   ]
  },
  {
   "cell_type": "markdown",
   "id": "bdb509cb-b801-4bbe-ac7a-379d089db375",
   "metadata": {},
   "source": [
    "### Data Leakage "
   ]
  },
  {
   "cell_type": "code",
   "execution_count": 18,
   "id": "ad3adbf4-981f-4c07-b213-509cdcb54154",
   "metadata": {},
   "outputs": [
    {
     "data": {
      "text/html": [
       "<div>\n",
       "<style scoped>\n",
       "    .dataframe tbody tr th:only-of-type {\n",
       "        vertical-align: middle;\n",
       "    }\n",
       "\n",
       "    .dataframe tbody tr th {\n",
       "        vertical-align: top;\n",
       "    }\n",
       "\n",
       "    .dataframe thead th {\n",
       "        text-align: right;\n",
       "    }\n",
       "</style>\n",
       "<table border=\"1\" class=\"dataframe\">\n",
       "  <thead>\n",
       "    <tr style=\"text-align: right;\">\n",
       "      <th></th>\n",
       "      <th>lact_num</th>\n",
       "      <th>avg_milk</th>\n",
       "      <th>avg_thi3</th>\n",
       "      <th>avg_csi3</th>\n",
       "      <th>avg_csi30</th>\n",
       "      <th>avg_precspring</th>\n",
       "      <th>date_diff</th>\n",
       "      <th>calv_month</th>\n",
       "      <th>calv_day_of_month</th>\n",
       "      <th>alp_month</th>\n",
       "      <th>alp_day_of_month</th>\n",
       "    </tr>\n",
       "  </thead>\n",
       "  <tbody>\n",
       "    <tr>\n",
       "      <th>0</th>\n",
       "      <td>5</td>\n",
       "      <td>26.20</td>\n",
       "      <td>60.17</td>\n",
       "      <td>966.13</td>\n",
       "      <td>1038.28</td>\n",
       "      <td>134.61</td>\n",
       "      <td>106</td>\n",
       "      <td>2</td>\n",
       "      <td>19</td>\n",
       "      <td>6</td>\n",
       "      <td>5</td>\n",
       "    </tr>\n",
       "    <tr>\n",
       "      <th>1</th>\n",
       "      <td>5</td>\n",
       "      <td>12.20</td>\n",
       "      <td>66.08</td>\n",
       "      <td>917.76</td>\n",
       "      <td>1111.54</td>\n",
       "      <td>184.40</td>\n",
       "      <td>218</td>\n",
       "      <td>11</td>\n",
       "      <td>9</td>\n",
       "      <td>6</td>\n",
       "      <td>15</td>\n",
       "    </tr>\n",
       "    <tr>\n",
       "      <th>2</th>\n",
       "      <td>3</td>\n",
       "      <td>14.60</td>\n",
       "      <td>66.78</td>\n",
       "      <td>899.06</td>\n",
       "      <td>1000.32</td>\n",
       "      <td>184.08</td>\n",
       "      <td>281</td>\n",
       "      <td>9</td>\n",
       "      <td>16</td>\n",
       "      <td>6</td>\n",
       "      <td>24</td>\n",
       "    </tr>\n",
       "    <tr>\n",
       "      <th>3</th>\n",
       "      <td>5</td>\n",
       "      <td>15.17</td>\n",
       "      <td>63.49</td>\n",
       "      <td>1053.80</td>\n",
       "      <td>1037.26</td>\n",
       "      <td>116.96</td>\n",
       "      <td>254</td>\n",
       "      <td>10</td>\n",
       "      <td>18</td>\n",
       "      <td>6</td>\n",
       "      <td>29</td>\n",
       "    </tr>\n",
       "    <tr>\n",
       "      <th>4</th>\n",
       "      <td>1</td>\n",
       "      <td>12.03</td>\n",
       "      <td>65.96</td>\n",
       "      <td>969.90</td>\n",
       "      <td>998.60</td>\n",
       "      <td>154.72</td>\n",
       "      <td>262</td>\n",
       "      <td>9</td>\n",
       "      <td>14</td>\n",
       "      <td>6</td>\n",
       "      <td>2</td>\n",
       "    </tr>\n",
       "  </tbody>\n",
       "</table>\n",
       "</div>"
      ],
      "text/plain": [
       "   lact_num  avg_milk  avg_thi3  avg_csi3  avg_csi30  avg_precspring  \\\n",
       "0         5     26.20     60.17    966.13    1038.28          134.61   \n",
       "1         5     12.20     66.08    917.76    1111.54          184.40   \n",
       "2         3     14.60     66.78    899.06    1000.32          184.08   \n",
       "3         5     15.17     63.49   1053.80    1037.26          116.96   \n",
       "4         1     12.03     65.96    969.90     998.60          154.72   \n",
       "\n",
       "   date_diff  calv_month  calv_day_of_month  alp_month  alp_day_of_month  \n",
       "0        106           2                 19          6                 5  \n",
       "1        218          11                  9          6                15  \n",
       "2        281           9                 16          6                24  \n",
       "3        254          10                 18          6                29  \n",
       "4        262           9                 14          6                 2  "
      ]
     },
     "execution_count": 18,
     "metadata": {},
     "output_type": "execute_result"
    }
   ],
   "source": [
    "# remove problematic or no longer needed columns\n",
    "# removing dates because features were extracted from these values and the originals are no longer needed.\n",
    "# removing avg_thi30 because it causes high VIF scores\n",
    "df = df.drop([\"newid\",'avg_thi30', 'calv_date', 'alp_date'], axis = 1)\n",
    "df.head()"
   ]
  },
  {
   "cell_type": "code",
   "execution_count": 19,
   "id": "04c22f7b-884c-4660-b580-bbad8c56b32a",
   "metadata": {},
   "outputs": [
    {
     "data": {
      "text/plain": [
       "Index(['lact_num', 'avg_milk', 'avg_thi3', 'avg_csi3', 'avg_csi30',\n",
       "       'avg_precspring', 'date_diff', 'calv_month', 'calv_day_of_month',\n",
       "       'alp_month', 'alp_day_of_month'],\n",
       "      dtype='object')"
      ]
     },
     "execution_count": 19,
     "metadata": {},
     "output_type": "execute_result"
    }
   ],
   "source": [
    "df.columns"
   ]
  },
  {
   "cell_type": "code",
   "execution_count": 20,
   "id": "026404cd-66c1-40c2-9ec7-fabc97e7ec15",
   "metadata": {},
   "outputs": [
    {
     "name": "stdout",
     "output_type": "stream",
     "text": [
      "              Feature          VIF\n",
      "0               const  4350.541432\n",
      "1            lact_num     1.093165\n",
      "2            avg_milk     1.583383\n",
      "3            avg_thi3     6.963646\n",
      "4            avg_csi3     3.926807\n",
      "5           avg_csi30     2.587901\n",
      "6      avg_precspring     1.268668\n",
      "7           date_diff     2.117705\n",
      "8          calv_month     2.834302\n",
      "9   calv_day_of_month     1.015470\n",
      "10          alp_month     1.502374\n",
      "11   alp_day_of_month     1.388929\n"
     ]
    }
   ],
   "source": [
    "features = ['lact_num', 'avg_milk', 'avg_thi3', 'avg_csi3', 'avg_csi30',\n",
    "       'avg_precspring', 'date_diff', 'calv_month',\n",
    "       'calv_day_of_month', 'alp_month', 'alp_day_of_month']\n",
    "\n",
    "# Calculate VIF\n",
    "X = df[features]\n",
    "X = sm.add_constant(X)\n",
    "\n",
    "vif_data = pd.DataFrame()\n",
    "vif_data[\"Feature\"] = X.columns\n",
    "vif_data[\"VIF\"] = [vif(X.values, i) for i in range(X.shape[1])]\n",
    "\n",
    "print(vif_data)"
   ]
  },
  {
   "cell_type": "code",
   "execution_count": 21,
   "id": "b0b61232-0c47-4a99-bfe4-ebc2052b0f87",
   "metadata": {},
   "outputs": [
    {
     "data": {
      "image/png": "[encoded data removed]",
      "text/plain": [
       "<Figure size 640x480 with 2 Axes>"
      ]
     },
     "metadata": {},
     "output_type": "display_data"
    }
   ],
   "source": [
    "corr_matrix = df[features].corr()\n",
    "sns.heatmap(corr_matrix, annot=True, cmap=\"coolwarm\", fmt=\".2f\")\n",
    "plt.title(\"Correlation Matrix\")\n",
    "plt.show()"
   ]
  },
  {
   "cell_type": "markdown",
   "id": "3d1fa847-021e-4330-8cb1-dc88f75dadec",
   "metadata": {},
   "source": [
    "## Model Training "
   ]
  },
  {
   "cell_type": "code",
   "execution_count": 22,
   "id": "9ad5dc71-d148-4913-8038-53534342209d",
   "metadata": {},
   "outputs": [],
   "source": [
    "# Split the features and target data\n",
    "y = df['avg_milk']\n",
    "X = df.drop('avg_milk', axis = 1)\n"
   ]
  },
  {
   "cell_type": "code",
   "execution_count": 23,
   "id": "7788d0bd-2313-4337-a8a1-a6ae15e9b1b5",
   "metadata": {},
   "outputs": [
    {
     "data": {
      "text/html": [
       "<div>\n",
       "<style scoped>\n",
       "    .dataframe tbody tr th:only-of-type {\n",
       "        vertical-align: middle;\n",
       "    }\n",
       "\n",
       "    .dataframe tbody tr th {\n",
       "        vertical-align: top;\n",
       "    }\n",
       "\n",
       "    .dataframe thead th {\n",
       "        text-align: right;\n",
       "    }\n",
       "</style>\n",
       "<table border=\"1\" class=\"dataframe\">\n",
       "  <thead>\n",
       "    <tr style=\"text-align: right;\">\n",
       "      <th></th>\n",
       "      <th>lact_num</th>\n",
       "      <th>avg_thi3</th>\n",
       "      <th>avg_csi3</th>\n",
       "      <th>avg_csi30</th>\n",
       "      <th>avg_precspring</th>\n",
       "      <th>date_diff</th>\n",
       "      <th>calv_month</th>\n",
       "      <th>calv_day_of_month</th>\n",
       "      <th>alp_month</th>\n",
       "      <th>alp_day_of_month</th>\n",
       "    </tr>\n",
       "  </thead>\n",
       "  <tbody>\n",
       "    <tr>\n",
       "      <th>0</th>\n",
       "      <td>5</td>\n",
       "      <td>60.17</td>\n",
       "      <td>966.13</td>\n",
       "      <td>1038.28</td>\n",
       "      <td>134.61</td>\n",
       "      <td>106</td>\n",
       "      <td>2</td>\n",
       "      <td>19</td>\n",
       "      <td>6</td>\n",
       "      <td>5</td>\n",
       "    </tr>\n",
       "    <tr>\n",
       "      <th>1</th>\n",
       "      <td>5</td>\n",
       "      <td>66.08</td>\n",
       "      <td>917.76</td>\n",
       "      <td>1111.54</td>\n",
       "      <td>184.40</td>\n",
       "      <td>218</td>\n",
       "      <td>11</td>\n",
       "      <td>9</td>\n",
       "      <td>6</td>\n",
       "      <td>15</td>\n",
       "    </tr>\n",
       "    <tr>\n",
       "      <th>2</th>\n",
       "      <td>3</td>\n",
       "      <td>66.78</td>\n",
       "      <td>899.06</td>\n",
       "      <td>1000.32</td>\n",
       "      <td>184.08</td>\n",
       "      <td>281</td>\n",
       "      <td>9</td>\n",
       "      <td>16</td>\n",
       "      <td>6</td>\n",
       "      <td>24</td>\n",
       "    </tr>\n",
       "    <tr>\n",
       "      <th>3</th>\n",
       "      <td>5</td>\n",
       "      <td>63.49</td>\n",
       "      <td>1053.80</td>\n",
       "      <td>1037.26</td>\n",
       "      <td>116.96</td>\n",
       "      <td>254</td>\n",
       "      <td>10</td>\n",
       "      <td>18</td>\n",
       "      <td>6</td>\n",
       "      <td>29</td>\n",
       "    </tr>\n",
       "    <tr>\n",
       "      <th>4</th>\n",
       "      <td>1</td>\n",
       "      <td>65.96</td>\n",
       "      <td>969.90</td>\n",
       "      <td>998.60</td>\n",
       "      <td>154.72</td>\n",
       "      <td>262</td>\n",
       "      <td>9</td>\n",
       "      <td>14</td>\n",
       "      <td>6</td>\n",
       "      <td>2</td>\n",
       "    </tr>\n",
       "  </tbody>\n",
       "</table>\n",
       "</div>"
      ],
      "text/plain": [
       "   lact_num  avg_thi3  avg_csi3  avg_csi30  avg_precspring  date_diff  \\\n",
       "0         5     60.17    966.13    1038.28          134.61        106   \n",
       "1         5     66.08    917.76    1111.54          184.40        218   \n",
       "2         3     66.78    899.06    1000.32          184.08        281   \n",
       "3         5     63.49   1053.80    1037.26          116.96        254   \n",
       "4         1     65.96    969.90     998.60          154.72        262   \n",
       "\n",
       "   calv_month  calv_day_of_month  alp_month  alp_day_of_month  \n",
       "0           2                 19          6                 5  \n",
       "1          11                  9          6                15  \n",
       "2           9                 16          6                24  \n",
       "3          10                 18          6                29  \n",
       "4           9                 14          6                 2  "
      ]
     },
     "metadata": {},
     "output_type": "display_data"
    },
    {
     "data": {
      "text/plain": [
       "0        26.20\n",
       "1        12.20\n",
       "2        14.60\n",
       "3        15.17\n",
       "4        12.03\n",
       "         ...  \n",
       "19995    19.38\n",
       "19996    23.57\n",
       "19997    21.23\n",
       "19998    11.63\n",
       "19999    10.47\n",
       "Name: avg_milk, Length: 19959, dtype: float64"
      ]
     },
     "metadata": {},
     "output_type": "display_data"
    }
   ],
   "source": [
    "# Review the features Dataframe \n",
    "display(X.head())\n",
    "display(y)"
   ]
  },
  {
   "cell_type": "code",
   "execution_count": 24,
   "id": "bfd0d15f-cf2e-4564-8cc4-029cc4e774be",
   "metadata": {},
   "outputs": [],
   "source": [
    "# Split data into training and testing datasets\n",
    "X_train, X_test, y_train, y_test = train_test_split(X, y, random_state=1)"
   ]
  },
  {
   "cell_type": "code",
   "execution_count": 25,
   "id": "7349c73d-96d8-4b07-9a5a-dc5c8192fc8c",
   "metadata": {},
   "outputs": [
    {
     "data": {
      "text/plain": [
       "array([[-0.30741166, -0.21155819,  0.13192995, ...,  0.72095697,\n",
       "        -1.96420227,  1.46995656],\n",
       "       [ 0.77316723, -0.92933445,  1.23760228, ...,  1.29769942,\n",
       "        -0.0429958 , -0.49693931],\n",
       "       [ 0.77316723,  0.20266511, -0.55633228, ...,  1.5283964 ,\n",
       "        -0.0429958 ,  1.00715753],\n",
       "       ...,\n",
       "       [-0.84770111, -2.32219983,  1.51317257, ..., -0.54787644,\n",
       "        -0.0429958 ,  0.66005826],\n",
       "       [-0.30741166, -1.31193765,  1.0039057 , ...,  0.72095697,\n",
       "        -0.0429958 ,  0.19725924],\n",
       "       [-0.84770111,  0.52835213, -0.04441145, ...,  0.60560848,\n",
       "        -0.0429958 , -1.65393688]])"
      ]
     },
     "metadata": {},
     "output_type": "display_data"
    },
    {
     "data": {
      "text/plain": [
       "array([[-0.30741166,  0.43665384, -0.35566286, ..., -0.31717945,\n",
       "        -0.0429958 ,  1.46995656],\n",
       "       [ 0.77316723, -1.02419475,  0.92340202, ...,  1.75909339,\n",
       "        -0.0429958 , -0.95973833],\n",
       "       [-0.84770111, -0.20365317, -0.2365292 , ..., -0.54787644,\n",
       "        -1.96420227,  0.77575802],\n",
       "       ...,\n",
       "       [ 0.77316723,  1.69197179, -1.64165754, ...,  0.259563  ,\n",
       "        -1.96420227,  1.3542568 ],\n",
       "       [ 0.23287778, -1.17280921,  0.7967488 , ..., -1.47066437,\n",
       "        -0.0429958 , -0.95973833],\n",
       "       [-0.84770111,  1.08960889, -1.31315534, ...,  0.02886602,\n",
       "        -0.0429958 , -0.38123955]])"
      ]
     },
     "metadata": {},
     "output_type": "display_data"
    }
   ],
   "source": [
    "# Instantiate a StandardScaler instance\n",
    "scaler = StandardScaler()\n",
    "\n",
    "# Fit the training data to the standard scaler\n",
    "X_scaler = scaler.fit(X_train)\n",
    "\n",
    "# Transform the training data using the scaler\n",
    "X_train_scaled = X_scaler.transform(X_train)\n",
    "\n",
    "# Transform the testing data using the scaler\n",
    "X_test_scaled = X_scaler.transform(X_test)\n",
    "\n",
    "display(X_train_scaled)\n",
    "display(X_test_scaled)"
   ]
  },
  {
   "cell_type": "markdown",
   "id": "f36841e2-fbbc-455c-84fb-6a0ce6c57cf0",
   "metadata": {},
   "source": [
    "## Define the ANN Model"
   ]
  },
  {
   "cell_type": "markdown",
   "id": "3b983fa0-bfe6-42a5-adb3-e2af0165467f",
   "metadata": {},
   "source": [
    "### Create and fit feedforward ANN Model "
   ]
  },
  {
   "cell_type": "code",
   "execution_count": 26,
   "id": "38fdda92-5ac4-4c48-94fe-c8ce27a2de19",
   "metadata": {},
   "outputs": [],
   "source": [
    "# Define the ANN Model\n",
    "model1 = Sequential([\n",
    "    layers.Input(shape=(X_train_scaled.shape[1],)),  # Input layer\n",
    "    layers.Dense(32, activation='relu'),  # Hidden layer 1\n",
    "    layers.Dense(32, activation='relu'),  # Hidden layer 2\n",
    "    layers.Dense(1)  # Output layer\n",
    "])"
   ]
  },
  {
   "cell_type": "code",
   "execution_count": 27,
   "id": "4c3d82ee-112a-44dc-9389-37635a2140f6",
   "metadata": {},
   "outputs": [],
   "source": [
    "# Compile the ANN ›model\n",
    "model1.compile(optimizer='adam', loss='mean_squared_error', metrics=['mae'])"
   ]
  },
  {
   "cell_type": "code",
   "execution_count": 56,
   "id": "ea8da728-4653-442f-a5b2-b05760db4712",
   "metadata": {},
   "outputs": [
    {
     "name": "stdout",
     "output_type": "stream",
     "text": [
      "Epoch 1/100\n",
      "\u001b[1m1198/1198\u001b[0m \u001b[32m━━━━━━━━━━━━━━━━━━━━\u001b[0m\u001b[37m\u001b[0m \u001b[1m1s\u001b[0m 1ms/step - loss: 8.6622 - mae: 2.2977 - val_loss: 9.7944 - val_mae: 2.4374\n",
      "Epoch 2/100\n",
      "\u001b[1m1198/1198\u001b[0m \u001b[32m━━━━━━━━━━━━━━━━━━━━\u001b[0m\u001b[37m\u001b[0m \u001b[1m1s\u001b[0m 1ms/step - loss: 8.5115 - mae: 2.2828 - val_loss: 10.6770 - val_mae: 2.5909\n",
      "Epoch 3/100\n",
      "\u001b[1m1198/1198\u001b[0m \u001b[32m━━━━━━━━━━━━━━━━━━━━\u001b[0m\u001b[37m\u001b[0m \u001b[1m1s\u001b[0m 1ms/step - loss: 8.7384 - mae: 2.3029 - val_loss: 9.6690 - val_mae: 2.4215\n",
      "Epoch 4/100\n",
      "\u001b[1m1198/1198\u001b[0m \u001b[32m━━━━━━━━━━━━━━━━━━━━\u001b[0m\u001b[37m\u001b[0m \u001b[1m1s\u001b[0m 1ms/step - loss: 9.0235 - mae: 2.3295 - val_loss: 9.6895 - val_mae: 2.4251\n",
      "Epoch 5/100\n",
      "\u001b[1m1198/1198\u001b[0m \u001b[32m━━━━━━━━━━━━━━━━━━━━\u001b[0m\u001b[37m\u001b[0m \u001b[1m1s\u001b[0m 942us/step - loss: 8.6122 - mae: 2.2972 - val_loss: 9.6691 - val_mae: 2.4347\n",
      "Epoch 6/100\n",
      "\u001b[1m1198/1198\u001b[0m \u001b[32m━━━━━━━━━━━━━━━━━━━━\u001b[0m\u001b[37m\u001b[0m \u001b[1m1s\u001b[0m 1ms/step - loss: 8.6957 - mae: 2.3131 - val_loss: 9.8413 - val_mae: 2.4609\n",
      "Epoch 7/100\n",
      "\u001b[1m1198/1198\u001b[0m \u001b[32m━━━━━━━━━━━━━━━━━━━━\u001b[0m\u001b[37m\u001b[0m \u001b[1m1s\u001b[0m 975us/step - loss: 8.8291 - mae: 2.3178 - val_loss: 9.6485 - val_mae: 2.4257\n",
      "Epoch 8/100\n",
      "\u001b[1m1198/1198\u001b[0m \u001b[32m━━━━━━━━━━━━━━━━━━━━\u001b[0m\u001b[37m\u001b[0m \u001b[1m1s\u001b[0m 929us/step - loss: 8.6657 - mae: 2.2966 - val_loss: 9.8056 - val_mae: 2.4381\n",
      "Epoch 9/100\n",
      "\u001b[1m1198/1198\u001b[0m \u001b[32m━━━━━━━━━━━━━━━━━━━━\u001b[0m\u001b[37m\u001b[0m \u001b[1m1s\u001b[0m 966us/step - loss: 8.7689 - mae: 2.3151 - val_loss: 9.9211 - val_mae: 2.4815\n",
      "Epoch 10/100\n",
      "\u001b[1m1198/1198\u001b[0m \u001b[32m━━━━━━━━━━━━━━━━━━━━\u001b[0m\u001b[37m\u001b[0m \u001b[1m1s\u001b[0m 889us/step - loss: 8.9015 - mae: 2.3229 - val_loss: 9.8441 - val_mae: 2.4557\n",
      "Epoch 11/100\n",
      "\u001b[1m1198/1198\u001b[0m \u001b[32m━━━━━━━━━━━━━━━━━━━━\u001b[0m\u001b[37m\u001b[0m \u001b[1m1s\u001b[0m 885us/step - loss: 8.8928 - mae: 2.3143 - val_loss: 9.7272 - val_mae: 2.4407\n",
      "Epoch 12/100\n",
      "\u001b[1m1198/1198\u001b[0m \u001b[32m━━━━━━━━━━━━━━━━━━━━\u001b[0m\u001b[37m\u001b[0m \u001b[1m1s\u001b[0m 885us/step - loss: 8.6924 - mae: 2.3031 - val_loss: 9.6823 - val_mae: 2.4261\n",
      "Epoch 13/100\n",
      "\u001b[1m1198/1198\u001b[0m \u001b[32m━━━━━━━━━━━━━━━━━━━━\u001b[0m\u001b[37m\u001b[0m \u001b[1m1s\u001b[0m 885us/step - loss: 8.6004 - mae: 2.2969 - val_loss: 9.7604 - val_mae: 2.4401\n",
      "Epoch 14/100\n",
      "\u001b[1m1198/1198\u001b[0m \u001b[32m━━━━━━━━━━━━━━━━━━━━\u001b[0m\u001b[37m\u001b[0m \u001b[1m1s\u001b[0m 900us/step - loss: 8.8387 - mae: 2.3246 - val_loss: 9.6848 - val_mae: 2.4362\n",
      "Epoch 15/100\n",
      "\u001b[1m1198/1198\u001b[0m \u001b[32m━━━━━━━━━━━━━━━━━━━━\u001b[0m\u001b[37m\u001b[0m \u001b[1m1s\u001b[0m 891us/step - loss: 8.9487 - mae: 2.3210 - val_loss: 9.9313 - val_mae: 2.4489\n",
      "Epoch 16/100\n",
      "\u001b[1m1198/1198\u001b[0m \u001b[32m━━━━━━━━━━━━━━━━━━━━\u001b[0m\u001b[37m\u001b[0m \u001b[1m1s\u001b[0m 899us/step - loss: 8.7751 - mae: 2.3122 - val_loss: 9.9350 - val_mae: 2.4524\n",
      "Epoch 17/100\n",
      "\u001b[1m1198/1198\u001b[0m \u001b[32m━━━━━━━━━━━━━━━━━━━━\u001b[0m\u001b[37m\u001b[0m \u001b[1m1s\u001b[0m 971us/step - loss: 8.9023 - mae: 2.3344 - val_loss: 9.7810 - val_mae: 2.4530\n",
      "Epoch 18/100\n",
      "\u001b[1m1198/1198\u001b[0m \u001b[32m━━━━━━━━━━━━━━━━━━━━\u001b[0m\u001b[37m\u001b[0m \u001b[1m1s\u001b[0m 940us/step - loss: 8.6640 - mae: 2.3111 - val_loss: 9.8635 - val_mae: 2.4661\n",
      "Epoch 19/100\n",
      "\u001b[1m1198/1198\u001b[0m \u001b[32m━━━━━━━━━━━━━━━━━━━━\u001b[0m\u001b[37m\u001b[0m \u001b[1m1s\u001b[0m 961us/step - loss: 8.6866 - mae: 2.2980 - val_loss: 9.6994 - val_mae: 2.4418\n",
      "Epoch 20/100\n",
      "\u001b[1m1198/1198\u001b[0m \u001b[32m━━━━━━━━━━━━━━━━━━━━\u001b[0m\u001b[37m\u001b[0m \u001b[1m1s\u001b[0m 879us/step - loss: 8.5816 - mae: 2.2966 - val_loss: 9.6310 - val_mae: 2.4175\n",
      "Epoch 21/100\n",
      "\u001b[1m1198/1198\u001b[0m \u001b[32m━━━━━━━━━━━━━━━━━━━━\u001b[0m\u001b[37m\u001b[0m \u001b[1m1s\u001b[0m 859us/step - loss: 8.6597 - mae: 2.3064 - val_loss: 9.7979 - val_mae: 2.4383\n",
      "Epoch 22/100\n",
      "\u001b[1m1198/1198\u001b[0m \u001b[32m━━━━━━━━━━━━━━━━━━━━\u001b[0m\u001b[37m\u001b[0m \u001b[1m1s\u001b[0m 964us/step - loss: 8.7420 - mae: 2.3117 - val_loss: 9.7880 - val_mae: 2.4412\n",
      "Epoch 23/100\n",
      "\u001b[1m1198/1198\u001b[0m \u001b[32m━━━━━━━━━━━━━━━━━━━━\u001b[0m\u001b[37m\u001b[0m \u001b[1m1s\u001b[0m 947us/step - loss: 8.6422 - mae: 2.3086 - val_loss: 9.6741 - val_mae: 2.4309\n",
      "Epoch 24/100\n",
      "\u001b[1m1198/1198\u001b[0m \u001b[32m━━━━━━━━━━━━━━━━━━━━\u001b[0m\u001b[37m\u001b[0m \u001b[1m1s\u001b[0m 866us/step - loss: 8.5992 - mae: 2.2907 - val_loss: 9.7351 - val_mae: 2.4329\n",
      "Epoch 25/100\n",
      "\u001b[1m1198/1198\u001b[0m \u001b[32m━━━━━━━━━━━━━━━━━━━━\u001b[0m\u001b[37m\u001b[0m \u001b[1m1s\u001b[0m 852us/step - loss: 8.5698 - mae: 2.2836 - val_loss: 9.9885 - val_mae: 2.4684\n",
      "Epoch 26/100\n",
      "\u001b[1m1198/1198\u001b[0m \u001b[32m━━━━━━━━━━━━━━━━━━━━\u001b[0m\u001b[37m\u001b[0m \u001b[1m1s\u001b[0m 860us/step - loss: 8.9296 - mae: 2.3291 - val_loss: 9.9581 - val_mae: 2.4481\n",
      "Epoch 27/100\n",
      "\u001b[1m1198/1198\u001b[0m \u001b[32m━━━━━━━━━━━━━━━━━━━━\u001b[0m\u001b[37m\u001b[0m \u001b[1m1s\u001b[0m 891us/step - loss: 8.8456 - mae: 2.3236 - val_loss: 9.9238 - val_mae: 2.4465\n",
      "Epoch 28/100\n",
      "\u001b[1m1198/1198\u001b[0m \u001b[32m━━━━━━━━━━━━━━━━━━━━\u001b[0m\u001b[37m\u001b[0m \u001b[1m1s\u001b[0m 974us/step - loss: 8.7812 - mae: 2.3154 - val_loss: 9.6746 - val_mae: 2.4203\n",
      "Epoch 29/100\n",
      "\u001b[1m1198/1198\u001b[0m \u001b[32m━━━━━━━━━━━━━━━━━━━━\u001b[0m\u001b[37m\u001b[0m \u001b[1m1s\u001b[0m 984us/step - loss: 8.6773 - mae: 2.2949 - val_loss: 9.8605 - val_mae: 2.4438\n",
      "Epoch 30/100\n",
      "\u001b[1m1198/1198\u001b[0m \u001b[32m━━━━━━━━━━━━━━━━━━━━\u001b[0m\u001b[37m\u001b[0m \u001b[1m1s\u001b[0m 1ms/step - loss: 8.7301 - mae: 2.3037 - val_loss: 9.7164 - val_mae: 2.4229\n",
      "Epoch 31/100\n",
      "\u001b[1m1198/1198\u001b[0m \u001b[32m━━━━━━━━━━━━━━━━━━━━\u001b[0m\u001b[37m\u001b[0m \u001b[1m1s\u001b[0m 997us/step - loss: 8.6195 - mae: 2.2916 - val_loss: 9.7181 - val_mae: 2.4363\n",
      "Epoch 32/100\n",
      "\u001b[1m1198/1198\u001b[0m \u001b[32m━━━━━━━━━━━━━━━━━━━━\u001b[0m\u001b[37m\u001b[0m \u001b[1m1s\u001b[0m 935us/step - loss: 8.5404 - mae: 2.2886 - val_loss: 9.7859 - val_mae: 2.4277\n",
      "Epoch 33/100\n",
      "\u001b[1m1198/1198\u001b[0m \u001b[32m━━━━━━━━━━━━━━━━━━━━\u001b[0m\u001b[37m\u001b[0m \u001b[1m1s\u001b[0m 997us/step - loss: 8.8907 - mae: 2.3256 - val_loss: 9.7129 - val_mae: 2.4232\n",
      "Epoch 34/100\n",
      "\u001b[1m1198/1198\u001b[0m \u001b[32m━━━━━━━━━━━━━━━━━━━━\u001b[0m\u001b[37m\u001b[0m \u001b[1m1s\u001b[0m 972us/step - loss: 8.5838 - mae: 2.2974 - val_loss: 9.8902 - val_mae: 2.4652\n",
      "Epoch 35/100\n",
      "\u001b[1m1198/1198\u001b[0m \u001b[32m━━━━━━━━━━━━━━━━━━━━\u001b[0m\u001b[37m\u001b[0m \u001b[1m1s\u001b[0m 918us/step - loss: 8.8320 - mae: 2.3232 - val_loss: 9.9184 - val_mae: 2.4677\n",
      "Epoch 36/100\n",
      "\u001b[1m1198/1198\u001b[0m \u001b[32m━━━━━━━━━━━━━━━━━━━━\u001b[0m\u001b[37m\u001b[0m \u001b[1m1s\u001b[0m 1ms/step - loss: 8.6385 - mae: 2.2931 - val_loss: 9.6788 - val_mae: 2.4318\n",
      "Epoch 37/100\n",
      "\u001b[1m1198/1198\u001b[0m \u001b[32m━━━━━━━━━━━━━━━━━━━━\u001b[0m\u001b[37m\u001b[0m \u001b[1m1s\u001b[0m 1ms/step - loss: 8.6559 - mae: 2.2974 - val_loss: 9.9122 - val_mae: 2.4525\n",
      "Epoch 38/100\n",
      "\u001b[1m1198/1198\u001b[0m \u001b[32m━━━━━━━━━━━━━━━━━━━━\u001b[0m\u001b[37m\u001b[0m \u001b[1m1s\u001b[0m 989us/step - loss: 8.9962 - mae: 2.3425 - val_loss: 9.8511 - val_mae: 2.4516\n",
      "Epoch 39/100\n",
      "\u001b[1m1198/1198\u001b[0m \u001b[32m━━━━━━━━━━━━━━━━━━━━\u001b[0m\u001b[37m\u001b[0m \u001b[1m1s\u001b[0m 944us/step - loss: 8.9647 - mae: 2.3232 - val_loss: 9.7363 - val_mae: 2.4271\n",
      "Epoch 40/100\n",
      "\u001b[1m1198/1198\u001b[0m \u001b[32m━━━━━━━━━━━━━━━━━━━━\u001b[0m\u001b[37m\u001b[0m \u001b[1m1s\u001b[0m 965us/step - loss: 8.4570 - mae: 2.2657 - val_loss: 10.0378 - val_mae: 2.4918\n",
      "Epoch 41/100\n",
      "\u001b[1m1198/1198\u001b[0m \u001b[32m━━━━━━━━━━━━━━━━━━━━\u001b[0m\u001b[37m\u001b[0m \u001b[1m1s\u001b[0m 898us/step - loss: 8.6128 - mae: 2.3087 - val_loss: 9.7679 - val_mae: 2.4371\n",
      "Epoch 42/100\n",
      "\u001b[1m1198/1198\u001b[0m \u001b[32m━━━━━━━━━━━━━━━━━━━━\u001b[0m\u001b[37m\u001b[0m \u001b[1m1s\u001b[0m 897us/step - loss: 8.4954 - mae: 2.2743 - val_loss: 9.6836 - val_mae: 2.4241\n",
      "Epoch 43/100\n",
      "\u001b[1m1198/1198\u001b[0m \u001b[32m━━━━━━━━━━━━━━━━━━━━\u001b[0m\u001b[37m\u001b[0m \u001b[1m1s\u001b[0m 878us/step - loss: 8.6803 - mae: 2.3020 - val_loss: 9.8851 - val_mae: 2.4643\n",
      "Epoch 44/100\n",
      "\u001b[1m1198/1198\u001b[0m \u001b[32m━━━━━━━━━━━━━━━━━━━━\u001b[0m\u001b[37m\u001b[0m \u001b[1m1s\u001b[0m 889us/step - loss: 8.4221 - mae: 2.2793 - val_loss: 9.9699 - val_mae: 2.4793\n",
      "Epoch 45/100\n",
      "\u001b[1m1198/1198\u001b[0m \u001b[32m━━━━━━━━━━━━━━━━━━━━\u001b[0m\u001b[37m\u001b[0m \u001b[1m1s\u001b[0m 872us/step - loss: 8.6561 - mae: 2.3026 - val_loss: 9.7561 - val_mae: 2.4375\n",
      "Epoch 46/100\n",
      "\u001b[1m1198/1198\u001b[0m \u001b[32m━━━━━━━━━━━━━━━━━━━━\u001b[0m\u001b[37m\u001b[0m \u001b[1m1s\u001b[0m 869us/step - loss: 8.5630 - mae: 2.2857 - val_loss: 9.7073 - val_mae: 2.4180\n",
      "Epoch 47/100\n",
      "\u001b[1m1198/1198\u001b[0m \u001b[32m━━━━━━━━━━━━━━━━━━━━\u001b[0m\u001b[37m\u001b[0m \u001b[1m1s\u001b[0m 897us/step - loss: 8.6798 - mae: 2.3063 - val_loss: 9.8623 - val_mae: 2.4390\n",
      "Epoch 48/100\n",
      "\u001b[1m1198/1198\u001b[0m \u001b[32m━━━━━━━━━━━━━━━━━━━━\u001b[0m\u001b[37m\u001b[0m \u001b[1m1s\u001b[0m 910us/step - loss: 8.6103 - mae: 2.2935 - val_loss: 9.7262 - val_mae: 2.4183\n",
      "Epoch 49/100\n",
      "\u001b[1m1198/1198\u001b[0m \u001b[32m━━━━━━━━━━━━━━━━━━━━\u001b[0m\u001b[37m\u001b[0m \u001b[1m1s\u001b[0m 991us/step - loss: 8.5728 - mae: 2.2846 - val_loss: 9.9630 - val_mae: 2.4651\n",
      "Epoch 50/100\n",
      "\u001b[1m1198/1198\u001b[0m \u001b[32m━━━━━━━━━━━━━━━━━━━━\u001b[0m\u001b[37m\u001b[0m \u001b[1m1s\u001b[0m 939us/step - loss: 8.7756 - mae: 2.3127 - val_loss: 9.7875 - val_mae: 2.4445\n",
      "Epoch 51/100\n",
      "\u001b[1m1198/1198\u001b[0m \u001b[32m━━━━━━━━━━━━━━━━━━━━\u001b[0m\u001b[37m\u001b[0m \u001b[1m1s\u001b[0m 963us/step - loss: 8.7009 - mae: 2.3057 - val_loss: 9.7759 - val_mae: 2.4304\n",
      "Epoch 52/100\n",
      "\u001b[1m1198/1198\u001b[0m \u001b[32m━━━━━━━━━━━━━━━━━━━━\u001b[0m\u001b[37m\u001b[0m \u001b[1m1s\u001b[0m 998us/step - loss: 8.7058 - mae: 2.3015 - val_loss: 9.9272 - val_mae: 2.4439\n",
      "Epoch 53/100\n",
      "\u001b[1m1198/1198\u001b[0m \u001b[32m━━━━━━━━━━━━━━━━━━━━\u001b[0m\u001b[37m\u001b[0m \u001b[1m1s\u001b[0m 966us/step - loss: 8.4775 - mae: 2.2809 - val_loss: 10.1517 - val_mae: 2.4891\n",
      "Epoch 54/100\n",
      "\u001b[1m1198/1198\u001b[0m \u001b[32m━━━━━━━━━━━━━━━━━━━━\u001b[0m\u001b[37m\u001b[0m \u001b[1m1s\u001b[0m 991us/step - loss: 8.6283 - mae: 2.2969 - val_loss: 9.7560 - val_mae: 2.4325\n",
      "Epoch 55/100\n",
      "\u001b[1m1198/1198\u001b[0m \u001b[32m━━━━━━━━━━━━━━━━━━━━\u001b[0m\u001b[37m\u001b[0m \u001b[1m1s\u001b[0m 978us/step - loss: 8.5805 - mae: 2.2929 - val_loss: 9.8341 - val_mae: 2.4411\n",
      "Epoch 56/100\n",
      "\u001b[1m1198/1198\u001b[0m \u001b[32m━━━━━━━━━━━━━━━━━━━━\u001b[0m\u001b[37m\u001b[0m \u001b[1m1s\u001b[0m 931us/step - loss: 8.6236 - mae: 2.3063 - val_loss: 9.9098 - val_mae: 2.4522\n",
      "Epoch 57/100\n",
      "\u001b[1m1198/1198\u001b[0m \u001b[32m━━━━━━━━━━━━━━━━━━━━\u001b[0m\u001b[37m\u001b[0m \u001b[1m1s\u001b[0m 941us/step - loss: 8.6552 - mae: 2.2814 - val_loss: 9.8586 - val_mae: 2.4615\n",
      "Epoch 58/100\n",
      "\u001b[1m1198/1198\u001b[0m \u001b[32m━━━━━━━━━━━━━━━━━━━━\u001b[0m\u001b[37m\u001b[0m \u001b[1m1s\u001b[0m 920us/step - loss: 8.4724 - mae: 2.2804 - val_loss: 9.8061 - val_mae: 2.4393\n",
      "Epoch 59/100\n",
      "\u001b[1m1198/1198\u001b[0m \u001b[32m━━━━━━━━━━━━━━━━━━━━\u001b[0m\u001b[37m\u001b[0m \u001b[1m1s\u001b[0m 896us/step - loss: 8.4950 - mae: 2.2818 - val_loss: 9.8682 - val_mae: 2.4413\n",
      "Epoch 60/100\n",
      "\u001b[1m1198/1198\u001b[0m \u001b[32m━━━━━━━━━━━━━━━━━━━━\u001b[0m\u001b[37m\u001b[0m \u001b[1m1s\u001b[0m 920us/step - loss: 8.6647 - mae: 2.3012 - val_loss: 10.0153 - val_mae: 2.4500\n",
      "Epoch 61/100\n",
      "\u001b[1m1198/1198\u001b[0m \u001b[32m━━━━━━━━━━━━━━━━━━━━\u001b[0m\u001b[37m\u001b[0m \u001b[1m1s\u001b[0m 911us/step - loss: 8.8564 - mae: 2.3175 - val_loss: 9.7253 - val_mae: 2.4149\n",
      "Epoch 62/100\n",
      "\u001b[1m1198/1198\u001b[0m \u001b[32m━━━━━━━━━━━━━━━━━━━━\u001b[0m\u001b[37m\u001b[0m \u001b[1m1s\u001b[0m 939us/step - loss: 8.5978 - mae: 2.2977 - val_loss: 9.8418 - val_mae: 2.4368\n",
      "Epoch 63/100\n",
      "\u001b[1m1198/1198\u001b[0m \u001b[32m━━━━━━━━━━━━━━━━━━━━\u001b[0m\u001b[37m\u001b[0m \u001b[1m1s\u001b[0m 959us/step - loss: 8.5441 - mae: 2.2869 - val_loss: 9.7662 - val_mae: 2.4403\n",
      "Epoch 64/100\n",
      "\u001b[1m1198/1198\u001b[0m \u001b[32m━━━━━━━━━━━━━━━━━━━━\u001b[0m\u001b[37m\u001b[0m \u001b[1m1s\u001b[0m 1ms/step - loss: 8.7153 - mae: 2.2999 - val_loss: 9.7878 - val_mae: 2.4297\n",
      "Epoch 65/100\n",
      "\u001b[1m1198/1198\u001b[0m \u001b[32m━━━━━━━━━━━━━━━━━━━━\u001b[0m\u001b[37m\u001b[0m \u001b[1m1s\u001b[0m 1ms/step - loss: 8.3667 - mae: 2.2692 - val_loss: 10.0827 - val_mae: 2.4919\n",
      "Epoch 66/100\n",
      "\u001b[1m1198/1198\u001b[0m \u001b[32m━━━━━━━━━━━━━━━━━━━━\u001b[0m\u001b[37m\u001b[0m \u001b[1m1s\u001b[0m 1ms/step - loss: 8.8117 - mae: 2.3108 - val_loss: 9.6507 - val_mae: 2.4274\n",
      "Epoch 67/100\n",
      "\u001b[1m1198/1198\u001b[0m \u001b[32m━━━━━━━━━━━━━━━━━━━━\u001b[0m\u001b[37m\u001b[0m \u001b[1m1s\u001b[0m 934us/step - loss: 8.4000 - mae: 2.2640 - val_loss: 9.7315 - val_mae: 2.4389\n",
      "Epoch 68/100\n",
      "\u001b[1m1198/1198\u001b[0m \u001b[32m━━━━━━━━━━━━━━━━━━━━\u001b[0m\u001b[37m\u001b[0m \u001b[1m1s\u001b[0m 966us/step - loss: 8.5480 - mae: 2.2766 - val_loss: 9.8780 - val_mae: 2.4409\n",
      "Epoch 69/100\n",
      "\u001b[1m1198/1198\u001b[0m \u001b[32m━━━━━━━━━━━━━━━━━━━━\u001b[0m\u001b[37m\u001b[0m \u001b[1m1s\u001b[0m 985us/step - loss: 8.5418 - mae: 2.2747 - val_loss: 9.7408 - val_mae: 2.4208\n",
      "Epoch 70/100\n",
      "\u001b[1m1198/1198\u001b[0m \u001b[32m━━━━━━━━━━━━━━━━━━━━\u001b[0m\u001b[37m\u001b[0m \u001b[1m1s\u001b[0m 892us/step - loss: 8.4705 - mae: 2.2899 - val_loss: 9.9476 - val_mae: 2.4691\n",
      "Epoch 71/100\n",
      "\u001b[1m1198/1198\u001b[0m \u001b[32m━━━━━━━━━━━━━━━━━━━━\u001b[0m\u001b[37m\u001b[0m \u001b[1m1s\u001b[0m 896us/step - loss: 8.6270 - mae: 2.2927 - val_loss: 9.9121 - val_mae: 2.4655\n",
      "Epoch 72/100\n",
      "\u001b[1m1198/1198\u001b[0m \u001b[32m━━━━━━━━━━━━━━━━━━━━\u001b[0m\u001b[37m\u001b[0m \u001b[1m1s\u001b[0m 901us/step - loss: 8.4263 - mae: 2.2692 - val_loss: 9.8634 - val_mae: 2.4559\n",
      "Epoch 73/100\n",
      "\u001b[1m1198/1198\u001b[0m \u001b[32m━━━━━━━━━━━━━━━━━━━━\u001b[0m\u001b[37m\u001b[0m \u001b[1m1s\u001b[0m 923us/step - loss: 8.5080 - mae: 2.2745 - val_loss: 9.7476 - val_mae: 2.4372\n",
      "Epoch 74/100\n",
      "\u001b[1m1198/1198\u001b[0m \u001b[32m━━━━━━━━━━━━━━━━━━━━\u001b[0m\u001b[37m\u001b[0m \u001b[1m1s\u001b[0m 950us/step - loss: 8.3181 - mae: 2.2536 - val_loss: 9.8006 - val_mae: 2.4397\n",
      "Epoch 75/100\n",
      "\u001b[1m1198/1198\u001b[0m \u001b[32m━━━━━━━━━━━━━━━━━━━━\u001b[0m\u001b[37m\u001b[0m \u001b[1m1s\u001b[0m 924us/step - loss: 8.4486 - mae: 2.2701 - val_loss: 9.8286 - val_mae: 2.4527\n",
      "Epoch 76/100\n",
      "\u001b[1m1198/1198\u001b[0m \u001b[32m━━━━━━━━━━━━━━━━━━━━\u001b[0m\u001b[37m\u001b[0m \u001b[1m1s\u001b[0m 926us/step - loss: 8.6879 - mae: 2.2995 - val_loss: 9.8453 - val_mae: 2.4550\n",
      "Epoch 77/100\n",
      "\u001b[1m1198/1198\u001b[0m \u001b[32m━━━━━━━━━━━━━━━━━━━━\u001b[0m\u001b[37m\u001b[0m \u001b[1m1s\u001b[0m 932us/step - loss: 8.4869 - mae: 2.2834 - val_loss: 9.8294 - val_mae: 2.4411\n",
      "Epoch 78/100\n",
      "\u001b[1m1198/1198\u001b[0m \u001b[32m━━━━━━━━━━━━━━━━━━━━\u001b[0m\u001b[37m\u001b[0m \u001b[1m1s\u001b[0m 927us/step - loss: 8.7330 - mae: 2.3076 - val_loss: 9.7113 - val_mae: 2.4257\n",
      "Epoch 79/100\n",
      "\u001b[1m1198/1198\u001b[0m \u001b[32m━━━━━━━━━━━━━━━━━━━━\u001b[0m\u001b[37m\u001b[0m \u001b[1m1s\u001b[0m 941us/step - loss: 8.8799 - mae: 2.3238 - val_loss: 9.8635 - val_mae: 2.4388\n",
      "Epoch 80/100\n",
      "\u001b[1m1198/1198\u001b[0m \u001b[32m━━━━━━━━━━━━━━━━━━━━\u001b[0m\u001b[37m\u001b[0m \u001b[1m1s\u001b[0m 907us/step - loss: 8.5915 - mae: 2.2930 - val_loss: 9.6964 - val_mae: 2.4152\n",
      "Epoch 81/100\n",
      "\u001b[1m1198/1198\u001b[0m \u001b[32m━━━━━━━━━━━━━━━━━━━━\u001b[0m\u001b[37m\u001b[0m \u001b[1m1s\u001b[0m 902us/step - loss: 8.4142 - mae: 2.2672 - val_loss: 9.8501 - val_mae: 2.4408\n",
      "Epoch 82/100\n",
      "\u001b[1m1198/1198\u001b[0m \u001b[32m━━━━━━━━━━━━━━━━━━━━\u001b[0m\u001b[37m\u001b[0m \u001b[1m1s\u001b[0m 927us/step - loss: 8.4194 - mae: 2.2674 - val_loss: 9.9483 - val_mae: 2.4602\n",
      "Epoch 83/100\n",
      "\u001b[1m1198/1198\u001b[0m \u001b[32m━━━━━━━━━━━━━━━━━━━━\u001b[0m\u001b[37m\u001b[0m \u001b[1m1s\u001b[0m 923us/step - loss: 8.4438 - mae: 2.2758 - val_loss: 10.1869 - val_mae: 2.4612\n",
      "Epoch 84/100\n",
      "\u001b[1m1198/1198\u001b[0m \u001b[32m━━━━━━━━━━━━━━━━━━━━\u001b[0m\u001b[37m\u001b[0m \u001b[1m1s\u001b[0m 937us/step - loss: 8.3856 - mae: 2.2678 - val_loss: 9.7441 - val_mae: 2.4307\n",
      "Epoch 85/100\n",
      "\u001b[1m1198/1198\u001b[0m \u001b[32m━━━━━━━━━━━━━━━━━━━━\u001b[0m\u001b[37m\u001b[0m \u001b[1m1s\u001b[0m 954us/step - loss: 8.4759 - mae: 2.2732 - val_loss: 9.6767 - val_mae: 2.4170\n",
      "Epoch 86/100\n",
      "\u001b[1m1198/1198\u001b[0m \u001b[32m━━━━━━━━━━━━━━━━━━━━\u001b[0m\u001b[37m\u001b[0m \u001b[1m1s\u001b[0m 912us/step - loss: 8.5332 - mae: 2.2782 - val_loss: 9.7636 - val_mae: 2.4282\n",
      "Epoch 87/100\n",
      "\u001b[1m1198/1198\u001b[0m \u001b[32m━━━━━━━━━━━━━━━━━━━━\u001b[0m\u001b[37m\u001b[0m \u001b[1m1s\u001b[0m 878us/step - loss: 8.5172 - mae: 2.2707 - val_loss: 9.6605 - val_mae: 2.4229\n",
      "Epoch 88/100\n",
      "\u001b[1m1198/1198\u001b[0m \u001b[32m━━━━━━━━━━━━━━━━━━━━\u001b[0m\u001b[37m\u001b[0m \u001b[1m1s\u001b[0m 1ms/step - loss: 8.7811 - mae: 2.3073 - val_loss: 9.7885 - val_mae: 2.4319\n",
      "Epoch 89/100\n",
      "\u001b[1m1198/1198\u001b[0m \u001b[32m━━━━━━━━━━━━━━━━━━━━\u001b[0m\u001b[37m\u001b[0m \u001b[1m1s\u001b[0m 996us/step - loss: 8.3494 - mae: 2.2662 - val_loss: 9.7198 - val_mae: 2.4239\n",
      "Epoch 90/100\n",
      "\u001b[1m1198/1198\u001b[0m \u001b[32m━━━━━━━━━━━━━━━━━━━━\u001b[0m\u001b[37m\u001b[0m \u001b[1m1s\u001b[0m 953us/step - loss: 8.4747 - mae: 2.2703 - val_loss: 9.8018 - val_mae: 2.4306\n",
      "Epoch 91/100\n",
      "\u001b[1m1198/1198\u001b[0m \u001b[32m━━━━━━━━━━━━━━━━━━━━\u001b[0m\u001b[37m\u001b[0m \u001b[1m1s\u001b[0m 930us/step - loss: 8.5726 - mae: 2.2838 - val_loss: 10.0025 - val_mae: 2.4674\n",
      "Epoch 92/100\n",
      "\u001b[1m1198/1198\u001b[0m \u001b[32m━━━━━━━━━━━━━━━━━━━━\u001b[0m\u001b[37m\u001b[0m \u001b[1m1s\u001b[0m 983us/step - loss: 8.2989 - mae: 2.2474 - val_loss: 9.8782 - val_mae: 2.4393\n",
      "Epoch 93/100\n",
      "\u001b[1m1198/1198\u001b[0m \u001b[32m━━━━━━━━━━━━━━━━━━━━\u001b[0m\u001b[37m\u001b[0m \u001b[1m1s\u001b[0m 933us/step - loss: 8.6325 - mae: 2.2920 - val_loss: 10.0579 - val_mae: 2.4577\n",
      "Epoch 94/100\n",
      "\u001b[1m1198/1198\u001b[0m \u001b[32m━━━━━━━━━━━━━━━━━━━━\u001b[0m\u001b[37m\u001b[0m \u001b[1m1s\u001b[0m 890us/step - loss: 8.5396 - mae: 2.2845 - val_loss: 10.1608 - val_mae: 2.4967\n",
      "Epoch 95/100\n",
      "\u001b[1m1198/1198\u001b[0m \u001b[32m━━━━━━━━━━━━━━━━━━━━\u001b[0m\u001b[37m\u001b[0m \u001b[1m1s\u001b[0m 952us/step - loss: 8.7312 - mae: 2.3084 - val_loss: 9.9347 - val_mae: 2.4480\n",
      "Epoch 96/100\n",
      "\u001b[1m1198/1198\u001b[0m \u001b[32m━━━━━━━━━━━━━━━━━━━━\u001b[0m\u001b[37m\u001b[0m \u001b[1m1s\u001b[0m 928us/step - loss: 8.4717 - mae: 2.2673 - val_loss: 10.0861 - val_mae: 2.4936\n",
      "Epoch 97/100\n",
      "\u001b[1m1198/1198\u001b[0m \u001b[32m━━━━━━━━━━━━━━━━━━━━\u001b[0m\u001b[37m\u001b[0m \u001b[1m1s\u001b[0m 915us/step - loss: 8.6320 - mae: 2.2958 - val_loss: 10.1612 - val_mae: 2.4687\n",
      "Epoch 98/100\n",
      "\u001b[1m1198/1198\u001b[0m \u001b[32m━━━━━━━━━━━━━━━━━━━━\u001b[0m\u001b[37m\u001b[0m \u001b[1m1s\u001b[0m 923us/step - loss: 8.4467 - mae: 2.2670 - val_loss: 9.8983 - val_mae: 2.4709\n",
      "Epoch 99/100\n",
      "\u001b[1m1198/1198\u001b[0m \u001b[32m━━━━━━━━━━━━━━━━━━━━\u001b[0m\u001b[37m\u001b[0m \u001b[1m1s\u001b[0m 908us/step - loss: 8.5926 - mae: 2.2800 - val_loss: 9.7716 - val_mae: 2.4385\n",
      "Epoch 100/100\n",
      "\u001b[1m1198/1198\u001b[0m \u001b[32m━━━━━━━━━━━━━━━━━━━━\u001b[0m\u001b[37m\u001b[0m \u001b[1m1s\u001b[0m 859us/step - loss: 8.3962 - mae: 2.2735 - val_loss: 9.9793 - val_mae: 2.4812\n"
     ]
    }
   ],
   "source": [
    "# Fit the model\n",
    "history1 = model1.fit(X_train_scaled, y_train, epochs=100, batch_size=10, validation_split=0.2)"
   ]
  },
  {
   "cell_type": "code",
   "execution_count": 29,
   "id": "9ee2641f-080d-4ecb-992b-4ec51a2dbe8e",
   "metadata": {},
   "outputs": [
    {
     "data": {
      "text/html": [
       "<pre style=\"white-space:pre;overflow-x:auto;line-height:normal;font-family:Menlo,'DejaVu Sans Mono',consolas,'Courier New',monospace\"><span style=\"font-weight: bold\">Model: \"sequential\"</span>\n",
       "</pre>\n"
      ],
      "text/plain": [
       "\u001b[1mModel: \"sequential\"\u001b[0m\n"
      ]
     },
     "metadata": {},
     "output_type": "display_data"
    },
    {
     "data": {
      "text/html": [
       "<pre style=\"white-space:pre;overflow-x:auto;line-height:normal;font-family:Menlo,'DejaVu Sans Mono',consolas,'Courier New',monospace\">┏━━━━━━━━━━━━━━━━━━━━━━━━━━━━━━━━━━━━━━┳━━━━━━━━━━━━━━━━━━━━━━━━━━━━━┳━━━━━━━━━━━━━━━━━┓\n",
       "┃<span style=\"font-weight: bold\"> Layer (type)                         </span>┃<span style=\"font-weight: bold\"> Output Shape                </span>┃<span style=\"font-weight: bold\">         Param # </span>┃\n",
       "┡━━━━━━━━━━━━━━━━━━━━━━━━━━━━━━━━━━━━━━╇━━━━━━━━━━━━━━━━━━━━━━━━━━━━━╇━━━━━━━━━━━━━━━━━┩\n",
       "│ dense (<span style=\"color: #0087ff; text-decoration-color: #0087ff\">Dense</span>)                        │ (<span style=\"color: #00d7ff; text-decoration-color: #00d7ff\">None</span>, <span style=\"color: #00af00; text-decoration-color: #00af00\">32</span>)                  │             <span style=\"color: #00af00; text-decoration-color: #00af00\">352</span> │\n",
       "├──────────────────────────────────────┼─────────────────────────────┼─────────────────┤\n",
       "│ dense_1 (<span style=\"color: #0087ff; text-decoration-color: #0087ff\">Dense</span>)                      │ (<span style=\"color: #00d7ff; text-decoration-color: #00d7ff\">None</span>, <span style=\"color: #00af00; text-decoration-color: #00af00\">32</span>)                  │           <span style=\"color: #00af00; text-decoration-color: #00af00\">1,056</span> │\n",
       "├──────────────────────────────────────┼─────────────────────────────┼─────────────────┤\n",
       "│ dense_2 (<span style=\"color: #0087ff; text-decoration-color: #0087ff\">Dense</span>)                      │ (<span style=\"color: #00d7ff; text-decoration-color: #00d7ff\">None</span>, <span style=\"color: #00af00; text-decoration-color: #00af00\">1</span>)                   │              <span style=\"color: #00af00; text-decoration-color: #00af00\">33</span> │\n",
       "└──────────────────────────────────────┴─────────────────────────────┴─────────────────┘\n",
       "</pre>\n"
      ],
      "text/plain": [
       "┏━━━━━━━━━━━━━━━━━━━━━━━━━━━━━━━━━━━━━━┳━━━━━━━━━━━━━━━━━━━━━━━━━━━━━┳━━━━━━━━━━━━━━━━━┓\n",
       "┃\u001b[1m \u001b[0m\u001b[1mLayer (type)                        \u001b[0m\u001b[1m \u001b[0m┃\u001b[1m \u001b[0m\u001b[1mOutput Shape               \u001b[0m\u001b[1m \u001b[0m┃\u001b[1m \u001b[0m\u001b[1m        Param #\u001b[0m\u001b[1m \u001b[0m┃\n",
       "┡━━━━━━━━━━━━━━━━━━━━━━━━━━━━━━━━━━━━━━╇━━━━━━━━━━━━━━━━━━━━━━━━━━━━━╇━━━━━━━━━━━━━━━━━┩\n",
       "│ dense (\u001b[38;5;33mDense\u001b[0m)                        │ (\u001b[38;5;45mNone\u001b[0m, \u001b[38;5;34m32\u001b[0m)                  │             \u001b[38;5;34m352\u001b[0m │\n",
       "├──────────────────────────────────────┼─────────────────────────────┼─────────────────┤\n",
       "│ dense_1 (\u001b[38;5;33mDense\u001b[0m)                      │ (\u001b[38;5;45mNone\u001b[0m, \u001b[38;5;34m32\u001b[0m)                  │           \u001b[38;5;34m1,056\u001b[0m │\n",
       "├──────────────────────────────────────┼─────────────────────────────┼─────────────────┤\n",
       "│ dense_2 (\u001b[38;5;33mDense\u001b[0m)                      │ (\u001b[38;5;45mNone\u001b[0m, \u001b[38;5;34m1\u001b[0m)                   │              \u001b[38;5;34m33\u001b[0m │\n",
       "└──────────────────────────────────────┴─────────────────────────────┴─────────────────┘\n"
      ]
     },
     "metadata": {},
     "output_type": "display_data"
    },
    {
     "data": {
      "text/html": [
       "<pre style=\"white-space:pre;overflow-x:auto;line-height:normal;font-family:Menlo,'DejaVu Sans Mono',consolas,'Courier New',monospace\"><span style=\"font-weight: bold\"> Total params: </span><span style=\"color: #00af00; text-decoration-color: #00af00\">4,325</span> (16.90 KB)\n",
       "</pre>\n"
      ],
      "text/plain": [
       "\u001b[1m Total params: \u001b[0m\u001b[38;5;34m4,325\u001b[0m (16.90 KB)\n"
      ]
     },
     "metadata": {},
     "output_type": "display_data"
    },
    {
     "data": {
      "text/html": [
       "<pre style=\"white-space:pre;overflow-x:auto;line-height:normal;font-family:Menlo,'DejaVu Sans Mono',consolas,'Courier New',monospace\"><span style=\"font-weight: bold\"> Trainable params: </span><span style=\"color: #00af00; text-decoration-color: #00af00\">1,441</span> (5.63 KB)\n",
       "</pre>\n"
      ],
      "text/plain": [
       "\u001b[1m Trainable params: \u001b[0m\u001b[38;5;34m1,441\u001b[0m (5.63 KB)\n"
      ]
     },
     "metadata": {},
     "output_type": "display_data"
    },
    {
     "data": {
      "text/html": [
       "<pre style=\"white-space:pre;overflow-x:auto;line-height:normal;font-family:Menlo,'DejaVu Sans Mono',consolas,'Courier New',monospace\"><span style=\"font-weight: bold\"> Non-trainable params: </span><span style=\"color: #00af00; text-decoration-color: #00af00\">0</span> (0.00 B)\n",
       "</pre>\n"
      ],
      "text/plain": [
       "\u001b[1m Non-trainable params: \u001b[0m\u001b[38;5;34m0\u001b[0m (0.00 B)\n"
      ]
     },
     "metadata": {},
     "output_type": "display_data"
    },
    {
     "data": {
      "text/html": [
       "<pre style=\"white-space:pre;overflow-x:auto;line-height:normal;font-family:Menlo,'DejaVu Sans Mono',consolas,'Courier New',monospace\"><span style=\"font-weight: bold\"> Optimizer params: </span><span style=\"color: #00af00; text-decoration-color: #00af00\">2,884</span> (11.27 KB)\n",
       "</pre>\n"
      ],
      "text/plain": [
       "\u001b[1m Optimizer params: \u001b[0m\u001b[38;5;34m2,884\u001b[0m (11.27 KB)\n"
      ]
     },
     "metadata": {},
     "output_type": "display_data"
    }
   ],
   "source": [
    "model1.summary()"
   ]
  },
  {
   "cell_type": "code",
   "execution_count": 30,
   "id": "4f0881f4-69b9-4452-b575-0d6023fd8884",
   "metadata": {},
   "outputs": [
    {
     "name": "stdout",
     "output_type": "stream",
     "text": [
      "\u001b[1m156/156\u001b[0m \u001b[32m━━━━━━━━━━━━━━━━━━━━\u001b[0m\u001b[37m\u001b[0m \u001b[1m0s\u001b[0m 747us/step - loss: 9.4228 - mae: 2.4016\n",
      "Mean Absolute Error: 2.438178777694702\n"
     ]
    }
   ],
   "source": [
    "# Evaluate the model\n",
    "loss, mae = model1.evaluate(X_test_scaled, y_test)\n",
    "print(f'Mean Absolute Error: {mae}')"
   ]
  },
  {
   "cell_type": "code",
   "execution_count": 31,
   "id": "eb0e9939-fc82-450a-bab7-861813314c22",
   "metadata": {},
   "outputs": [
    {
     "name": "stdout",
     "output_type": "stream",
     "text": [
      "\u001b[1m156/156\u001b[0m \u001b[32m━━━━━━━━━━━━━━━━━━━━\u001b[0m\u001b[37m\u001b[0m \u001b[1m0s\u001b[0m 572us/step\n"
     ]
    },
    {
     "data": {
      "text/plain": [
       "2.438178396702768"
      ]
     },
     "execution_count": 31,
     "metadata": {},
     "output_type": "execute_result"
    }
   ],
   "source": [
    "# Calculate MAE (For readressing  / review)\n",
    "y_pred = model1.predict(X_test_scaled)\n",
    "mae = mean_absolute_error(y_test, y_pred)\n",
    "mae"
   ]
  },
  {
   "cell_type": "code",
   "execution_count": 32,
   "id": "8b8265fb-2fdd-4598-a682-6b341459343d",
   "metadata": {},
   "outputs": [
    {
     "data": {
      "text/plain": [
       "10"
      ]
     },
     "execution_count": 32,
     "metadata": {},
     "output_type": "execute_result"
    }
   ],
   "source": [
    "len(X.columns)"
   ]
  },
  {
   "cell_type": "code",
   "execution_count": 51,
   "id": "d0bb55e0-abd9-47a0-b721-d27183997b81",
   "metadata": {},
   "outputs": [],
   "source": [
    "def create_model(hp):\n",
    "    model = tf.keras.models.Sequential()\n",
    "    \n",
    "    #choose which activation function to use for hidden layers\n",
    "    activation = hp.Choice('activation',['relu','tanh','sigmoid'])\n",
    "\n",
    "    #choose number of neurons in the first layer\n",
    "    model.add(layers.Input(shape=(len(X.columns),)))\n",
    "    model.add(layers.Dense(units = hp.Int('first_units', min_value = 1, max_value = 10, step=2),\n",
    "                                       activation = activation))\n",
    "\n",
    "    #choose number of hidden layers and number of neurons\n",
    "    for i in range(hp.Int('num_layers', 1, 6)):\n",
    "        model.add(layers.Dense(units = hp.Int('units_' + str(i),  min_value = 1, max_value = 10, step = 2),\n",
    "                               activation = activation))\n",
    "\n",
    "    #add final layer for regression\n",
    "    model.add(layers.Dense(units = 1))\n",
    "\n",
    "    #find best learning rate\n",
    "    learning_rate = hp.Choice('learning_rate', [0.001, 0.01, 0.1])\n",
    "\n",
    "    #choose the optimizer\n",
    "    optimizer = hp.Choice('optimizer', ['adam', 'sgd', 'rmsprop'])\n",
    "    \n",
    "    if optimizer == 'adam':\n",
    "        optimizer = tf.keras.optimizers.Adam(learning_rate=learning_rate)\n",
    "    elif optimizer == 'sgd':\n",
    "        optimizer = tf.keras.optimizers.SGD(learning_rate=learning_rate)\n",
    "    elif optimizer == 'rmsprop':\n",
    "        optimizer = tf.keras.optimizers.RMSprop(learning_rate=learning_rate)\n",
    "\n",
    "    #compile the model\n",
    "    model.compile(loss = \"mean_absolute_error\", optimizer = optimizer, metrics = [\"mean_absolute_error\"])\n",
    "\n",
    "    return model      \n",
    "  "
   ]
  },
  {
   "cell_type": "code",
   "execution_count": 52,
   "id": "04fe7d46-b9ba-487f-b2e4-47299cf2bf1c",
   "metadata": {},
   "outputs": [],
   "source": [
    "# set up the tuner\n",
    "tuner = kt.Hyperband(create_model,                           #run function\n",
    "                     objective = 'mean_absolute_error',      #what are we testing for\n",
    "                     max_epochs = 20,                        #testing on how many iterations\n",
    "                     hyperband_iterations = 2)               #how many times to run the tuner"
   ]
  },
  {
   "cell_type": "code",
   "execution_count": 53,
   "id": "a56198d4-d19e-4ca3-842e-383aada73485",
   "metadata": {},
   "outputs": [
    {
     "name": "stdout",
     "output_type": "stream",
     "text": [
      "Trial 60 Complete [00h 00m 21s]\n",
      "mean_absolute_error: 2.4281206130981445\n",
      "\n",
      "Best mean_absolute_error So Far: 2.4079010486602783\n",
      "Total elapsed time: 00h 09m 19s\n"
     ]
    }
   ],
   "source": [
    "# Run the kerastuner search for best hyperparameters\n",
    "tuner.search(X_train_scaled, y_train,\n",
    "             epochs=20, \n",
    "             validation_data=(X_test_scaled, y_test),\n",
    "            batch_size=kt.HyperParameters().Choice('batch_size', [16, 32, 64, 128]))"
   ]
  },
  {
   "cell_type": "code",
   "execution_count": 55,
   "id": "7ffdf26a-4535-4cf5-b3bc-5648792dc20a",
   "metadata": {},
   "outputs": [
    {
     "name": "stdout",
     "output_type": "stream",
     "text": [
      "Epoch 1/100\n",
      "\u001b[1m468/468\u001b[0m \u001b[32m━━━━━━━━━━━━━━━━━━━━\u001b[0m\u001b[37m\u001b[0m \u001b[1m1s\u001b[0m 1ms/step - loss: 2.3576 - mean_absolute_error: 2.3576 - val_loss: 2.4337 - val_mean_absolute_error: 2.4337\n",
      "Epoch 2/100\n",
      "\u001b[1m468/468\u001b[0m \u001b[32m━━━━━━━━━━━━━━━━━━━━\u001b[0m\u001b[37m\u001b[0m \u001b[1m1s\u001b[0m 1ms/step - loss: 2.3908 - mean_absolute_error: 2.3908 - val_loss: 2.4382 - val_mean_absolute_error: 2.4382\n",
      "Epoch 3/100\n",
      "\u001b[1m468/468\u001b[0m \u001b[32m━━━━━━━━━━━━━━━━━━━━\u001b[0m\u001b[37m\u001b[0m \u001b[1m1s\u001b[0m 1ms/step - loss: 2.3640 - mean_absolute_error: 2.3640 - val_loss: 2.4324 - val_mean_absolute_error: 2.4324\n",
      "Epoch 4/100\n",
      "\u001b[1m468/468\u001b[0m \u001b[32m━━━━━━━━━━━━━━━━━━━━\u001b[0m\u001b[37m\u001b[0m \u001b[1m1s\u001b[0m 1ms/step - loss: 2.3920 - mean_absolute_error: 2.3920 - val_loss: 2.4315 - val_mean_absolute_error: 2.4315\n",
      "Epoch 5/100\n",
      "\u001b[1m468/468\u001b[0m \u001b[32m━━━━━━━━━━━━━━━━━━━━\u001b[0m\u001b[37m\u001b[0m \u001b[1m1s\u001b[0m 1ms/step - loss: 2.3829 - mean_absolute_error: 2.3829 - val_loss: 2.4362 - val_mean_absolute_error: 2.4362\n",
      "Epoch 6/100\n",
      "\u001b[1m468/468\u001b[0m \u001b[32m━━━━━━━━━━━━━━━━━━━━\u001b[0m\u001b[37m\u001b[0m \u001b[1m1s\u001b[0m 1ms/step - loss: 2.3965 - mean_absolute_error: 2.3965 - val_loss: 2.4311 - val_mean_absolute_error: 2.4311\n",
      "Epoch 7/100\n",
      "\u001b[1m468/468\u001b[0m \u001b[32m━━━━━━━━━━━━━━━━━━━━\u001b[0m\u001b[37m\u001b[0m \u001b[1m1s\u001b[0m 1ms/step - loss: 2.3968 - mean_absolute_error: 2.3968 - val_loss: 2.4440 - val_mean_absolute_error: 2.4440\n",
      "Epoch 8/100\n",
      "\u001b[1m468/468\u001b[0m \u001b[32m━━━━━━━━━━━━━━━━━━━━\u001b[0m\u001b[37m\u001b[0m \u001b[1m1s\u001b[0m 1ms/step - loss: 2.3919 - mean_absolute_error: 2.3919 - val_loss: 2.4366 - val_mean_absolute_error: 2.4366\n",
      "Epoch 9/100\n",
      "\u001b[1m468/468\u001b[0m \u001b[32m━━━━━━━━━━━━━━━━━━━━\u001b[0m\u001b[37m\u001b[0m \u001b[1m1s\u001b[0m 1ms/step - loss: 2.3955 - mean_absolute_error: 2.3955 - val_loss: 2.4363 - val_mean_absolute_error: 2.4363\n",
      "Epoch 10/100\n",
      "\u001b[1m468/468\u001b[0m \u001b[32m━━━━━━━━━━━━━━━━━━━━\u001b[0m\u001b[37m\u001b[0m \u001b[1m1s\u001b[0m 1ms/step - loss: 2.3775 - mean_absolute_error: 2.3775 - val_loss: 2.4375 - val_mean_absolute_error: 2.4375\n",
      "Epoch 11/100\n",
      "\u001b[1m468/468\u001b[0m \u001b[32m━━━━━━━━━━━━━━━━━━━━\u001b[0m\u001b[37m\u001b[0m \u001b[1m1s\u001b[0m 1ms/step - loss: 2.3699 - mean_absolute_error: 2.3699 - val_loss: 2.4325 - val_mean_absolute_error: 2.4325\n",
      "Epoch 12/100\n",
      "\u001b[1m468/468\u001b[0m \u001b[32m━━━━━━━━━━━━━━━━━━━━\u001b[0m\u001b[37m\u001b[0m \u001b[1m1s\u001b[0m 1ms/step - loss: 2.3702 - mean_absolute_error: 2.3702 - val_loss: 2.4382 - val_mean_absolute_error: 2.4382\n",
      "Epoch 13/100\n",
      "\u001b[1m468/468\u001b[0m \u001b[32m━━━━━━━━━━━━━━━━━━━━\u001b[0m\u001b[37m\u001b[0m \u001b[1m1s\u001b[0m 1ms/step - loss: 2.4115 - mean_absolute_error: 2.4115 - val_loss: 2.4334 - val_mean_absolute_error: 2.4334\n",
      "Epoch 14/100\n",
      "\u001b[1m468/468\u001b[0m \u001b[32m━━━━━━━━━━━━━━━━━━━━\u001b[0m\u001b[37m\u001b[0m \u001b[1m1s\u001b[0m 1ms/step - loss: 2.3881 - mean_absolute_error: 2.3881 - val_loss: 2.4319 - val_mean_absolute_error: 2.4319\n",
      "Epoch 15/100\n",
      "\u001b[1m468/468\u001b[0m \u001b[32m━━━━━━━━━━━━━━━━━━━━\u001b[0m\u001b[37m\u001b[0m \u001b[1m1s\u001b[0m 1ms/step - loss: 2.3476 - mean_absolute_error: 2.3476 - val_loss: 2.4418 - val_mean_absolute_error: 2.4418\n",
      "Epoch 16/100\n",
      "\u001b[1m468/468\u001b[0m \u001b[32m━━━━━━━━━━━━━━━━━━━━\u001b[0m\u001b[37m\u001b[0m \u001b[1m1s\u001b[0m 1ms/step - loss: 2.3644 - mean_absolute_error: 2.3644 - val_loss: 2.4354 - val_mean_absolute_error: 2.4354\n",
      "\u001b[1m156/156\u001b[0m \u001b[32m━━━━━━━━━━━━━━━━━━━━\u001b[0m\u001b[37m\u001b[0m \u001b[1m0s\u001b[0m 647us/step\n"
     ]
    },
    {
     "data": {
      "image/png": "[encoded data removed]",
      "text/plain": [
       "<Figure size 640x480 with 1 Axes>"
      ]
     },
     "metadata": {},
     "output_type": "display_data"
    }
   ],
   "source": [
    "# Calculate MAE (For readressing  / review)\n",
    "history = model.fit(X_train_scaled, y_train, \n",
    "                         epochs=100,  # A large number to let early stopping work\n",
    "                         validation_data=(X_test_scaled, y_test),\n",
    "                         callbacks=[EarlyStopping(monitor='val_loss', patience=10, restore_best_weights=True)])\n",
    "\n",
    "y_pred = model.predict(X_test_scaled)\n",
    "mae = mean_absolute_error(y_test, y_pred)\n",
    "mae\n",
    "# Plot training and validation loss to visualize overfitting prevention\n",
    "plt.plot(history.history['loss'], label='Training Loss')\n",
    "plt.plot(history.history['val_loss'], label='Validation Loss')\n",
    "plt.title(\"Training and Validation Loss\")\n",
    "plt.xlabel(\"Epochs\")\n",
    "plt.ylabel(\"Loss\")\n",
    "plt.legend()\n",
    "plt.show()"
   ]
  },
  {
   "cell_type": "code",
   "execution_count": 36,
   "id": "d53033b3-bd68-4917-b54c-d9556d92b7b6",
   "metadata": {},
   "outputs": [
    {
     "data": {
      "text/plain": [
       "{'activation': 'relu',\n",
       " 'first_units': 7,\n",
       " 'num_layers': 5,\n",
       " 'units_0': 1,\n",
       " 'learning_rate': 0.01,\n",
       " 'optimizer': 'sgd',\n",
       " 'units_1': 5,\n",
       " 'units_2': 9,\n",
       " 'units_3': 3,\n",
       " 'units_4': 3,\n",
       " 'units_5': 3,\n",
       " 'tuner/epochs': 20,\n",
       " 'tuner/initial_epoch': 0,\n",
       " 'tuner/bracket': 0,\n",
       " 'tuner/round': 0}"
      ]
     },
     "execution_count": 36,
     "metadata": {},
     "output_type": "execute_result"
    }
   ],
   "source": [
    "# Get best model hyperparameters\n",
    "best_hp = tuner.get_best_hyperparameters(1)[0]\n",
    "best_hp.values"
   ]
  },
  {
   "cell_type": "code",
   "execution_count": 37,
   "id": "a49e5867-45d9-47c1-84b4-4f46d407120c",
   "metadata": {},
   "outputs": [
    {
     "name": "stdout",
     "output_type": "stream",
     "text": [
      "WARNING:tensorflow:From C:\\Users\\jclib\\anaconda3\\envs\\dev\\lib\\site-packages\\keras\\src\\backend\\common\\global_state.py:82: The name tf.reset_default_graph is deprecated. Please use tf.compat.v1.reset_default_graph instead.\n",
      "\n"
     ]
    },
    {
     "name": "stderr",
     "output_type": "stream",
     "text": [
      "C:\\Users\\jclib\\anaconda3\\envs\\dev\\lib\\site-packages\\keras\\src\\saving\\saving_lib.py:757: UserWarning: Skipping variable loading for optimizer 'adam', because it has 2 variables whereas the saved optimizer has 30 variables. \n",
      "  saveable.load_own_variables(weights_store.get(inner_path))\n"
     ]
    },
    {
     "data": {
      "text/html": [
       "<pre style=\"white-space:pre;overflow-x:auto;line-height:normal;font-family:Menlo,'DejaVu Sans Mono',consolas,'Courier New',monospace\"><span style=\"font-weight: bold\">Model: \"sequential\"</span>\n",
       "</pre>\n"
      ],
      "text/plain": [
       "\u001b[1mModel: \"sequential\"\u001b[0m\n"
      ]
     },
     "metadata": {},
     "output_type": "display_data"
    },
    {
     "data": {
      "text/html": [
       "<pre style=\"white-space:pre;overflow-x:auto;line-height:normal;font-family:Menlo,'DejaVu Sans Mono',consolas,'Courier New',monospace\">┏━━━━━━━━━━━━━━━━━━━━━━━━━━━━━━━━━━━━━━┳━━━━━━━━━━━━━━━━━━━━━━━━━━━━━┳━━━━━━━━━━━━━━━━━┓\n",
       "┃<span style=\"font-weight: bold\"> Layer (type)                         </span>┃<span style=\"font-weight: bold\"> Output Shape                </span>┃<span style=\"font-weight: bold\">         Param # </span>┃\n",
       "┡━━━━━━━━━━━━━━━━━━━━━━━━━━━━━━━━━━━━━━╇━━━━━━━━━━━━━━━━━━━━━━━━━━━━━╇━━━━━━━━━━━━━━━━━┩\n",
       "│ dense (<span style=\"color: #0087ff; text-decoration-color: #0087ff\">Dense</span>)                        │ (<span style=\"color: #00d7ff; text-decoration-color: #00d7ff\">None</span>, <span style=\"color: #00af00; text-decoration-color: #00af00\">7</span>)                   │              <span style=\"color: #00af00; text-decoration-color: #00af00\">77</span> │\n",
       "├──────────────────────────────────────┼─────────────────────────────┼─────────────────┤\n",
       "│ dense_1 (<span style=\"color: #0087ff; text-decoration-color: #0087ff\">Dense</span>)                      │ (<span style=\"color: #00d7ff; text-decoration-color: #00d7ff\">None</span>, <span style=\"color: #00af00; text-decoration-color: #00af00\">1</span>)                   │               <span style=\"color: #00af00; text-decoration-color: #00af00\">8</span> │\n",
       "├──────────────────────────────────────┼─────────────────────────────┼─────────────────┤\n",
       "│ dense_2 (<span style=\"color: #0087ff; text-decoration-color: #0087ff\">Dense</span>)                      │ (<span style=\"color: #00d7ff; text-decoration-color: #00d7ff\">None</span>, <span style=\"color: #00af00; text-decoration-color: #00af00\">5</span>)                   │              <span style=\"color: #00af00; text-decoration-color: #00af00\">10</span> │\n",
       "├──────────────────────────────────────┼─────────────────────────────┼─────────────────┤\n",
       "│ dense_3 (<span style=\"color: #0087ff; text-decoration-color: #0087ff\">Dense</span>)                      │ (<span style=\"color: #00d7ff; text-decoration-color: #00d7ff\">None</span>, <span style=\"color: #00af00; text-decoration-color: #00af00\">9</span>)                   │              <span style=\"color: #00af00; text-decoration-color: #00af00\">54</span> │\n",
       "├──────────────────────────────────────┼─────────────────────────────┼─────────────────┤\n",
       "│ dense_4 (<span style=\"color: #0087ff; text-decoration-color: #0087ff\">Dense</span>)                      │ (<span style=\"color: #00d7ff; text-decoration-color: #00d7ff\">None</span>, <span style=\"color: #00af00; text-decoration-color: #00af00\">3</span>)                   │              <span style=\"color: #00af00; text-decoration-color: #00af00\">30</span> │\n",
       "├──────────────────────────────────────┼─────────────────────────────┼─────────────────┤\n",
       "│ dense_5 (<span style=\"color: #0087ff; text-decoration-color: #0087ff\">Dense</span>)                      │ (<span style=\"color: #00d7ff; text-decoration-color: #00d7ff\">None</span>, <span style=\"color: #00af00; text-decoration-color: #00af00\">3</span>)                   │              <span style=\"color: #00af00; text-decoration-color: #00af00\">12</span> │\n",
       "├──────────────────────────────────────┼─────────────────────────────┼─────────────────┤\n",
       "│ dense_6 (<span style=\"color: #0087ff; text-decoration-color: #0087ff\">Dense</span>)                      │ (<span style=\"color: #00d7ff; text-decoration-color: #00d7ff\">None</span>, <span style=\"color: #00af00; text-decoration-color: #00af00\">1</span>)                   │               <span style=\"color: #00af00; text-decoration-color: #00af00\">4</span> │\n",
       "└──────────────────────────────────────┴─────────────────────────────┴─────────────────┘\n",
       "</pre>\n"
      ],
      "text/plain": [
       "┏━━━━━━━━━━━━━━━━━━━━━━━━━━━━━━━━━━━━━━┳━━━━━━━━━━━━━━━━━━━━━━━━━━━━━┳━━━━━━━━━━━━━━━━━┓\n",
       "┃\u001b[1m \u001b[0m\u001b[1mLayer (type)                        \u001b[0m\u001b[1m \u001b[0m┃\u001b[1m \u001b[0m\u001b[1mOutput Shape               \u001b[0m\u001b[1m \u001b[0m┃\u001b[1m \u001b[0m\u001b[1m        Param #\u001b[0m\u001b[1m \u001b[0m┃\n",
       "┡━━━━━━━━━━━━━━━━━━━━━━━━━━━━━━━━━━━━━━╇━━━━━━━━━━━━━━━━━━━━━━━━━━━━━╇━━━━━━━━━━━━━━━━━┩\n",
       "│ dense (\u001b[38;5;33mDense\u001b[0m)                        │ (\u001b[38;5;45mNone\u001b[0m, \u001b[38;5;34m7\u001b[0m)                   │              \u001b[38;5;34m77\u001b[0m │\n",
       "├──────────────────────────────────────┼─────────────────────────────┼─────────────────┤\n",
       "│ dense_1 (\u001b[38;5;33mDense\u001b[0m)                      │ (\u001b[38;5;45mNone\u001b[0m, \u001b[38;5;34m1\u001b[0m)                   │               \u001b[38;5;34m8\u001b[0m │\n",
       "├──────────────────────────────────────┼─────────────────────────────┼─────────────────┤\n",
       "│ dense_2 (\u001b[38;5;33mDense\u001b[0m)                      │ (\u001b[38;5;45mNone\u001b[0m, \u001b[38;5;34m5\u001b[0m)                   │              \u001b[38;5;34m10\u001b[0m │\n",
       "├──────────────────────────────────────┼─────────────────────────────┼─────────────────┤\n",
       "│ dense_3 (\u001b[38;5;33mDense\u001b[0m)                      │ (\u001b[38;5;45mNone\u001b[0m, \u001b[38;5;34m9\u001b[0m)                   │              \u001b[38;5;34m54\u001b[0m │\n",
       "├──────────────────────────────────────┼─────────────────────────────┼─────────────────┤\n",
       "│ dense_4 (\u001b[38;5;33mDense\u001b[0m)                      │ (\u001b[38;5;45mNone\u001b[0m, \u001b[38;5;34m3\u001b[0m)                   │              \u001b[38;5;34m30\u001b[0m │\n",
       "├──────────────────────────────────────┼─────────────────────────────┼─────────────────┤\n",
       "│ dense_5 (\u001b[38;5;33mDense\u001b[0m)                      │ (\u001b[38;5;45mNone\u001b[0m, \u001b[38;5;34m3\u001b[0m)                   │              \u001b[38;5;34m12\u001b[0m │\n",
       "├──────────────────────────────────────┼─────────────────────────────┼─────────────────┤\n",
       "│ dense_6 (\u001b[38;5;33mDense\u001b[0m)                      │ (\u001b[38;5;45mNone\u001b[0m, \u001b[38;5;34m1\u001b[0m)                   │               \u001b[38;5;34m4\u001b[0m │\n",
       "└──────────────────────────────────────┴─────────────────────────────┴─────────────────┘\n"
      ]
     },
     "metadata": {},
     "output_type": "display_data"
    },
    {
     "data": {
      "text/html": [
       "<pre style=\"white-space:pre;overflow-x:auto;line-height:normal;font-family:Menlo,'DejaVu Sans Mono',consolas,'Courier New',monospace\"><span style=\"font-weight: bold\"> Total params: </span><span style=\"color: #00af00; text-decoration-color: #00af00\">195</span> (780.00 B)\n",
       "</pre>\n"
      ],
      "text/plain": [
       "\u001b[1m Total params: \u001b[0m\u001b[38;5;34m195\u001b[0m (780.00 B)\n"
      ]
     },
     "metadata": {},
     "output_type": "display_data"
    },
    {
     "data": {
      "text/html": [
       "<pre style=\"white-space:pre;overflow-x:auto;line-height:normal;font-family:Menlo,'DejaVu Sans Mono',consolas,'Courier New',monospace\"><span style=\"font-weight: bold\"> Trainable params: </span><span style=\"color: #00af00; text-decoration-color: #00af00\">195</span> (780.00 B)\n",
       "</pre>\n"
      ],
      "text/plain": [
       "\u001b[1m Trainable params: \u001b[0m\u001b[38;5;34m195\u001b[0m (780.00 B)\n"
      ]
     },
     "metadata": {},
     "output_type": "display_data"
    },
    {
     "data": {
      "text/html": [
       "<pre style=\"white-space:pre;overflow-x:auto;line-height:normal;font-family:Menlo,'DejaVu Sans Mono',consolas,'Courier New',monospace\"><span style=\"font-weight: bold\"> Non-trainable params: </span><span style=\"color: #00af00; text-decoration-color: #00af00\">0</span> (0.00 B)\n",
       "</pre>\n"
      ],
      "text/plain": [
       "\u001b[1m Non-trainable params: \u001b[0m\u001b[38;5;34m0\u001b[0m (0.00 B)\n"
      ]
     },
     "metadata": {},
     "output_type": "display_data"
    }
   ],
   "source": [
    "# Retrieve the best model\n",
    "model = tuner.get_best_models(num_models=1)[0]\n",
    "\n",
    "# Print the summary of the best model\n",
    "model.summary()"
   ]
  },
  {
   "cell_type": "code",
   "execution_count": 59,
   "id": "e4011848-2a8d-4eae-ac76-1a86e0d939ac",
   "metadata": {},
   "outputs": [],
   "source": [
    "# Export our model and our scaler for use in out gradio notebook\n",
    "from pathlib import Path\n",
    "file_path = Path(\"milking_the_data.keras\")\n",
    "model.save(file_path)\n",
    "\n",
    "import pickle\n",
    "# Save the scaler to a file using pickle\n",
    "with open('X_scaler.pkl', 'wb') as f:\n",
    "    pickle.dump(X_scaler, f)"
   ]
  },
  {
   "cell_type": "code",
   "execution_count": null,
   "id": "9ad19263-a565-4d41-8414-40f1e79d0133",
   "metadata": {},
   "outputs": [],
   "source": []
  }
 ],
 "metadata": {
  "kernelspec": {
   "display_name": "Python (dev)",
   "language": "python",
   "name": "my_env"
  },
  "language_info": {
   "codemirror_mode": {
    "name": "ipython",
    "version": 3
   },
   "file_extension": ".py",
   "mimetype": "text/x-python",
   "name": "python",
   "nbconvert_exporter": "python",
   "pygments_lexer": "ipython3",
   "version": "3.10.14"
  }
 },
 "nbformat": 4,
 "nbformat_minor": 5
}
