{
 "cells": [
  {
   "cell_type": "code",
   "execution_count": 37,
   "id": "8e4d331d-ad0d-4914-9363-4bca2cc499e6",
   "metadata": {},
   "outputs": [],
   "source": [
    "# Import pandas\n",
    "import pandas as pd\n",
    "import numpy as np\n",
    "import random\n",
    "\n",
    "# Import the required dependencies from sklearn\n",
    "from sklearn.model_selection import train_test_split\n",
    "from sklearn.pipeline import Pipeline\n",
    "from pathlib import Path\n",
    "\n",
    "import tensorflow as tf\n",
    "\n",
    "# Import Gradio\n",
    "import gradio as gr"
   ]
  },
  {
   "cell_type": "code",
   "execution_count": 38,
   "id": "6fceb9a8-d0aa-41f6-b86e-4fe82abffb08",
   "metadata": {},
   "outputs": [
    {
     "data": {
      "text/plain": [
       "<Sequential name=sequential, built=True>"
      ]
     },
     "execution_count": 38,
     "metadata": {},
     "output_type": "execute_result"
    }
   ],
   "source": [
    "# Set the model's file path\n",
    "model_path = Path(\"milking_the_data.keras\")\n",
    "\n",
    "# Load the model to a new object\n",
    "model = tf.keras.models.load_model(model_path)\n",
    "model"
   ]
  },
  {
   "cell_type": "code",
   "execution_count": 39,
   "id": "f640280a-50e2-44a7-ba8a-eef14e771f71",
   "metadata": {},
   "outputs": [],
   "source": [
    "import pickle\n",
    "\n",
    "# Load the scaler from the file\n",
    "with open('X_scaler.pkl', 'rb') as f:\n",
    "    X_scaler = pickle.load(f)"
   ]
  },
  {
   "cell_type": "code",
   "execution_count": 40,
   "id": "ff8282c2-7f18-4589-851c-0e3199d37d49",
   "metadata": {},
   "outputs": [],
   "source": [
    "# Define the mapping for months\n",
    "month_mapping = {\n",
    "    \"January\": 1, \"February\": 2, \"March\": 3, \"April\": 4,\n",
    "    \"May\": 5, \"June\": 6, \"July\": 7, \"August\": 8,\n",
    "    \"September\": 9, \"October\": 10, \"November\": 11, \"December\": 12\n",
    "}"
   ]
  },
  {
   "cell_type": "code",
   "execution_count": 41,
   "id": "82035406-f436-4bb8-b626-f29dbc10b227",
   "metadata": {},
   "outputs": [],
   "source": [
    "# Define the function to get a random milk-related fact\n",
    "def get_random_fact():\n",
    "    milk_facts_metric = {\n",
    "        \"fact_1\": \"A cow can produce about 22-26 liters of milk a day, which translates to roughly 7,570 liters per year.\",\n",
    "        \"fact_2\": \"It takes about 5.4 kilograms of whole milk to make one liter of ice cream.\",\n",
    "        \"fact_3\": \"Dairy cows are typically milked two to three times per day.\",\n",
    "        \"fact_4\": \"Holstein cows are the most common dairy breed and are known for their high milk production.\",\n",
    "        \"fact_5\": \"On average, cows need to drink about 110-190 liters of water each day to produce milk.\",\n",
    "        \"fact_6\": \"A dairy cow's diet is designed to optimize milk production and includes a mix of hay, grains, and silage.\",\n",
    "        \"fact_7\": \"Milk from cows contains important nutrients like calcium, vitamin D, and protein, which are essential for human health.\",\n",
    "        \"fact_8\": \"It takes 10.7 kilograms of whole milk to make one kilogram of butter.\",\n",
    "        \"fact_9\": \"The process of pasteurization, which was developed by Louis Pasteur, is used to kill harmful bacteria in milk.\",\n",
    "        \"fact_10\": \"Cows must give birth to a calf to start producing milk. This cycle typically begins when they are around two years old.\"\n",
    "    }\n",
    "    \n",
    "    fact_key = random.choice(list(milk_facts_metric.keys()))\n",
    "    return milk_facts_metric[fact_key]"
   ]
  },
  {
   "cell_type": "code",
   "execution_count": 48,
   "id": "329be66e-b4d2-4d3a-971e-b8c32624ec15",
   "metadata": {},
   "outputs": [],
   "source": [
    "def predict_milk_production(lact_num, avg_thi3, avg_csi3, avg_csi30, avg_precspring,\n",
    "                            date_diff, calv_month, calv_day_of_month, alp_month, alp_day_of_month):\n",
    "\n",
    "    # Convert month names to numerical values\n",
    "    calv_month = month_mapping[calv_month]\n",
    "    alp_month = month_mapping[alp_month]\n",
    "    \n",
    "    # Prepare the input data for the model\n",
    "    input_data = np.array([[lact_num, avg_thi3, avg_csi3, avg_csi30, avg_precspring,\n",
    "                            date_diff, calv_month, calv_day_of_month, alp_month, alp_day_of_month]])\n",
    "    #scale the data\n",
    "    input_data_scaled = X_scaler.transform(input_data)\n",
    "    # Make prediction\n",
    "    prediction = model.predict(input_data_scaled)\n",
    "\n",
    "    # Get a random milk-related fact\n",
    "    random_fact = get_random_fact()\n",
    "    # Format the output\n",
    "    formatted_output = f\"Predicted Milk Production: {prediction[0][0]:.2f} kg\\nFun Fact: {random_fact}\"\n",
    "    \n",
    "    return formatted_output"
   ]
  },
  {
   "cell_type": "code",
   "execution_count": 49,
   "id": "ff2c6c1d-b9bb-42b1-87cc-16be1e2b05be",
   "metadata": {},
   "outputs": [
    {
     "name": "stdout",
     "output_type": "stream",
     "text": [
      "* Running on local URL:  http://127.0.0.1:7872\n",
      "\n",
      "Could not create share link. Please check your internet connection or our status page: https://status.gradio.app.\n"
     ]
    },
    {
     "data": {
      "text/html": [
       "<div><iframe src=\"http://127.0.0.1:7872/\" width=\"100%\" height=\"500\" allow=\"autoplay; camera; microphone; clipboard-read; clipboard-write;\" frameborder=\"0\" allowfullscreen></iframe></div>"
      ],
      "text/plain": [
       "<IPython.core.display.HTML object>"
      ]
     },
     "metadata": {},
     "output_type": "display_data"
    },
    {
     "data": {
      "text/plain": []
     },
     "execution_count": 49,
     "metadata": {},
     "output_type": "execute_result"
    },
    {
     "name": "stdout",
     "output_type": "stream",
     "text": [
      "\u001b[1m1/1\u001b[0m \u001b[32m━━━━━━━━━━━━━━━━━━━━\u001b[0m\u001b[37m\u001b[0m \u001b[1m0s\u001b[0m 22ms/step\n"
     ]
    },
    {
     "name": "stderr",
     "output_type": "stream",
     "text": [
      "C:\\Users\\jclib\\anaconda3\\envs\\dev\\lib\\site-packages\\sklearn\\base.py:493: UserWarning: X does not have valid feature names, but StandardScaler was fitted with feature names\n",
      "  warnings.warn(\n"
     ]
    },
    {
     "name": "stdout",
     "output_type": "stream",
     "text": [
      "\u001b[1m1/1\u001b[0m \u001b[32m━━━━━━━━━━━━━━━━━━━━\u001b[0m\u001b[37m\u001b[0m \u001b[1m0s\u001b[0m 21ms/step\n"
     ]
    },
    {
     "name": "stderr",
     "output_type": "stream",
     "text": [
      "C:\\Users\\jclib\\anaconda3\\envs\\dev\\lib\\site-packages\\sklearn\\base.py:493: UserWarning: X does not have valid feature names, but StandardScaler was fitted with feature names\n",
      "  warnings.warn(\n"
     ]
    }
   ],
   "source": [
    "# Define the Gradio interface\n",
    "inputs = [\n",
    "    gr.Number(label='Lactation Number (number of births)'),\n",
    "    gr.Slider(minimum=0, maximum=100, step=1, label='Average Temp Humidity Index (3 days)'),\n",
    "    gr.Slider(minimum=700, maximum=1300, step=10, label='Average Cold Stress Index (3 days)'),\n",
    "    gr.Slider(minimum=700, maximum=1300, step=10, label='Average Cold Stress Index (30 days)'),\n",
    "    gr.Slider(minimum=0, maximum=500, step=10, label='Average Precipitation Spring (mm/month)'),\n",
    "    gr.Number(label='Number of Days Between Calving and Arriving in the Alp'),\n",
    "    gr.Dropdown(choices=[\"January\", \"February\", \"March\", \"April\", \"May\", \"June\", \"July\", \n",
    "                         \"August\", \"September\", \"October\", \"November\", \"December\"], label='Calving Month'),\n",
    "    gr.Dropdown(choices=list(range(1, 32)), label='Day Calving Month'),  # Dropdown for 1-31\n",
    "    gr.Dropdown(choices=[\"January\", \"February\", \"March\", \"April\", \"May\", \"June\", \"July\", \"August\",\n",
    "                         \"September\", \"October\", \"November\", \"December\"], label='Alping Month'),\n",
    "    gr.Dropdown(choices=list(range(1, 32)), label='Day of Alping Month')  # Dropdown for 1-31\n",
    "]\n",
    "\n",
    "outputs = gr.Textbox(label='Predicted Milk Production (kg) and a fun fact!')\n",
    "\n",
    "interface = gr.Interface(fn=predict_milk_production, inputs=inputs, outputs=outputs, title = 'Milk Production Prediction')\n",
    "\n",
    "# Launch the interface\n",
    "interface.launch(share = True)"
   ]
  },
  {
   "cell_type": "code",
   "execution_count": null,
   "id": "6b4db122-436a-48cc-91cf-31f1745cf5f8",
   "metadata": {},
   "outputs": [],
   "source": []
  }
 ],
 "metadata": {
  "kernelspec": {
   "display_name": "Python (dev)",
   "language": "python",
   "name": "my_env"
  },
  "language_info": {
   "codemirror_mode": {
    "name": "ipython",
    "version": 3
   },
   "file_extension": ".py",
   "mimetype": "text/x-python",
   "name": "python",
   "nbconvert_exporter": "python",
   "pygments_lexer": "ipython3",
   "version": "3.10.14"
  }
 },
 "nbformat": 4,
 "nbformat_minor": 5
}
