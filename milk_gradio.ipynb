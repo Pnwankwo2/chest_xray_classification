{
 "cells": [
  {
   "cell_type": "code",
   "execution_count": 1,
   "id": "8e4d331d-ad0d-4914-9363-4bca2cc499e6",
   "metadata": {},
   "outputs": [],
   "source": [
    "# Import pandas\n",
    "import pandas as pd\n",
    "import numpy as np\n",
    "\n",
    "# Import the required dependencies from sklearn\n",
    "from sklearn.model_selection import train_test_split\n",
    "from sklearn.pipeline import Pipeline\n",
    "from pathlib import Path\n",
    "\n",
    "import tensorflow as tf\n",
    "\n",
    "# Import Gradio\n",
    "import gradio as gr"
   ]
  },
  {
   "cell_type": "code",
   "execution_count": 2,
   "id": "6fceb9a8-d0aa-41f6-b86e-4fe82abffb08",
   "metadata": {},
   "outputs": [
    {
     "name": "stderr",
     "output_type": "stream",
     "text": [
      "C:\\Users\\jclib\\anaconda3\\envs\\dev\\lib\\site-packages\\keras\\src\\saving\\saving_lib.py:757: UserWarning: Skipping variable loading for optimizer 'adam', because it has 34 variables whereas the saved optimizer has 2 variables. \n",
      "  saveable.load_own_variables(weights_store.get(inner_path))\n"
     ]
    },
    {
     "data": {
      "text/plain": [
       "<Sequential name=sequential, built=True>"
      ]
     },
     "execution_count": 2,
     "metadata": {},
     "output_type": "execute_result"
    }
   ],
   "source": [
    "# Set the model's file path\n",
    "model_path = Path(\"milking_the_data.keras\")\n",
    "\n",
    "# Load the model to a new object\n",
    "model = tf.keras.models.load_model(model_path)\n",
    "model"
   ]
  },
  {
   "cell_type": "code",
   "execution_count": 3,
   "id": "f640280a-50e2-44a7-ba8a-eef14e771f71",
   "metadata": {},
   "outputs": [],
   "source": [
    "import pickle\n",
    "\n",
    "# Load the scaler from the file\n",
    "with open('scaler.pkl', 'rb') as f:\n",
    "    scaler = pickle.load(f)"
   ]
  },
  {
   "cell_type": "code",
   "execution_count": 4,
   "id": "329be66e-b4d2-4d3a-971e-b8c32624ec15",
   "metadata": {},
   "outputs": [],
   "source": [
    "def predict_milk_production(lact_num, avg_thi3, avg_csi3, avg_csi30, avg_precspring,\n",
    "                            date_diff, calv_month, calv_day_of_month, alp_month, alp_day_of_month):\n",
    "    # Prepare the input data for the model\n",
    "    input_data = np.array([[lact_num, avg_thi3, avg_csi3, avg_csi30, avg_precspring,\n",
    "                            date_diff, calv_month, calv_day_of_month, alp_month, alp_day_of_month]])\n",
    "    #scale the data\n",
    "    input_data_scaled = scaler.transform(input_data)\n",
    "    # Make prediction\n",
    "    prediction = model.predict(input_data_scaled)\n",
    "    \n",
    "    return prediction[0][0]  # Return the predicted value\n"
   ]
  },
  {
   "cell_type": "code",
   "execution_count": 6,
   "id": "ff2c6c1d-b9bb-42b1-87cc-16be1e2b05be",
   "metadata": {},
   "outputs": [
    {
     "name": "stdout",
     "output_type": "stream",
     "text": [
      "* Running on local URL:  http://127.0.0.1:7860\n",
      "\n",
      "To create a public link, set `share=True` in `launch()`.\n"
     ]
    },
    {
     "data": {
      "text/html": [
       "<div><iframe src=\"http://127.0.0.1:7860/\" width=\"100%\" height=\"500\" allow=\"autoplay; camera; microphone; clipboard-read; clipboard-write;\" frameborder=\"0\" allowfullscreen></iframe></div>"
      ],
      "text/plain": [
       "<IPython.core.display.HTML object>"
      ]
     },
     "metadata": {},
     "output_type": "display_data"
    },
    {
     "data": {
      "text/plain": []
     },
     "execution_count": 6,
     "metadata": {},
     "output_type": "execute_result"
    },
    {
     "name": "stdout",
     "output_type": "stream",
     "text": [
      "\u001b[1m1/1\u001b[0m \u001b[32m━━━━━━━━━━━━━━━━━━━━\u001b[0m\u001b[37m\u001b[0m \u001b[1m0s\u001b[0m 64ms/step\n"
     ]
    },
    {
     "name": "stderr",
     "output_type": "stream",
     "text": [
      "C:\\Users\\jclib\\anaconda3\\envs\\dev\\lib\\site-packages\\sklearn\\base.py:493: UserWarning: X does not have valid feature names, but StandardScaler was fitted with feature names\n",
      "  warnings.warn(\n"
     ]
    }
   ],
   "source": [
    "# Define the Gradio interface\n",
    "inputs = [\n",
    "    gr.Number(label='Lactation Number (number of births)'),\n",
    "    gr.Slider(30, 80, step = 1,label='Average Temp Humidity Index (3 days)'),\n",
    "    gr.Slider(700, 1300, step = 10, label='Average Cold Stress Index (3 days)'),\n",
    "    gr.Slider(700, 1300, step = 10, label='Average Cold Stress Index (30 days)'),\n",
    "    gr.Slider(0,500, step = 10, label='Average Precipitation Spring (mm/month)'),\n",
    "    gr.Number(label='Number of Days Between Calving and Arriving in the Alp'),\n",
    "    gr.Slider(1,12,step=1,label='Calving Month (calv_month)'),\n",
    "    gr.Slider(1,31, step = 1, label='Calving Day of Month (calv_day_of_month)'),\n",
    "    gr.Slider(1,12,step=1,label='Alping Month (alp_month)'),\n",
    "    gr.Slider(1,31, step = 1,label='Alping Day of Month (alp_day_of_month)')\n",
    "]\n",
    "\n",
    "outputs = gr.Textbox(label='Predicted Milk Production')\n",
    "\n",
    "interface = gr.Interface(fn=predict_milk_production, inputs=inputs, outputs=outputs)\n",
    "\n",
    "# Launch the interface\n",
    "interface.launch()"
   ]
  },
  {
   "cell_type": "code",
   "execution_count": null,
   "id": "6b4db122-436a-48cc-91cf-31f1745cf5f8",
   "metadata": {},
   "outputs": [],
   "source": []
  }
 ],
 "metadata": {
  "kernelspec": {
   "display_name": "Python (dev)",
   "language": "python",
   "name": "my_env"
  },
  "language_info": {
   "codemirror_mode": {
    "name": "ipython",
    "version": 3
   },
   "file_extension": ".py",
   "mimetype": "text/x-python",
   "name": "python",
   "nbconvert_exporter": "python",
   "pygments_lexer": "ipython3",
   "version": "3.10.14"
  }
 },
 "nbformat": 4,
 "nbformat_minor": 5
}
